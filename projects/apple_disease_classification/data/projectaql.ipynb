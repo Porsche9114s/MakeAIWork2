{
 "cells": [
  {
   "cell_type": "code",
   "execution_count": 1,
   "metadata": {},
   "outputs": [
    {
     "data": {
      "text/plain": [
       "'\\nAQL is de afkorting voor Acceptable Quality Level. De AQL-waarde is het maximale uitvalpercentage, of het maximale \\naantal fouten per 100 eenheden, dat als aanvaardbare grenskwaliteit wordt gezien. \\nBij de bepaling van de AQL-waarde moet dus in elk geval het gemiddelde uitvalpercentage van de productie of de \\nleveringen lager liggen dan de AQL-waarde.\\n'"
      ]
     },
     "execution_count": 1,
     "metadata": {},
     "output_type": "execute_result"
    }
   ],
   "source": [
    "\"\"\"\n",
    "AQL is de afkorting voor Acceptable Quality Level. De AQL-waarde is het maximale uitvalpercentage, of het maximale \n",
    "aantal fouten per 100 eenheden, dat als aanvaardbare grenskwaliteit wordt gezien. \n",
    "Bij de bepaling van de AQL-waarde moet dus in elk geval het gemiddelde uitvalpercentage van de productie of de \n",
    "leveringen lager liggen dan de AQL-waarde.\n",
    "\"\"\""
   ]
  },
  {
   "cell_type": "code",
   "execution_count": 2,
   "metadata": {},
   "outputs": [],
   "source": [
    "\n",
    "import tensorflow as tf\n",
    "from tensorflow import keras\n",
    "from keras import datasets, layers, models, Sequential\n",
    "import matplotlib.pyplot as plt\n",
    "import random\n",
    "from random import choices\n",
    "from keras.preprocessing import image\n",
    "import numpy\n",
    "import os\n",
    "from PIL import Image\n",
    "import io\n",
    "import matplotlib.pyplot as plt\n",
    "import matplotlib.image as mpimg\n",
    "import numpy as np\n",
    "import os\n",
    "from sklearn.model_selection import train_test_split\n",
    "import random\n",
    "import requests\n",
    "import scipy as sp\n",
    "from scipy import ndimage\n",
    "import tensorflow as tf\n",
    "import tensorflow.keras as keras\n",
    "import zipfile\n",
    "import pandas as pd\n",
    "from pandas import DataFrame\n",
    "import matplotlib.pyplot as plt\n",
    "import numpy as np\n",
    "import PIL\n",
    "import tensorflow as tf\n",
    "import pathlib\n",
    "from tensorflow.python.ops.numpy_ops import np_config\n",
    "import matplotlib.pyplot as plt\n",
    "import numpy as np\n",
    "import tensorflow as tf\n",
    "import tensorflow.experimental.numpy as tnp\n",
    "from keras import datasets, layers, models, Sequential\n",
    "from keras.preprocessing import image\n",
    "from PIL import Image\n",
    "import pandas as pd\n",
    "from pandas import DataFrame\n",
    "import PIL\n",
    "import matplotlib.pyplot as plt\n",
    "import numpy as np\n",
    "import tensorflow as tf\n",
    "from tensorflow import keras\n",
    "import timeit\n",
    "from tensorflow import keras\n",
    "from tensorflow.keras import layers\n",
    "from tensorflow.keras.models import Sequential\n",
    " "
   ]
  },
  {
   "cell_type": "code",
   "execution_count": 3,
   "metadata": {},
   "outputs": [],
   "source": [
    "os.environ['TF_CPP_MIN_LEVEL'] = '2'"
   ]
  },
  {
   "cell_type": "code",
   "execution_count": 4,
   "metadata": {},
   "outputs": [
    {
     "name": "stdout",
     "output_type": "stream",
     "text": [
      "Found 120 files belonging to 4 classes.\n"
     ]
    }
   ],
   "source": [
    "data_dir = 'Test'\n",
    "\n",
    "img_height = 255\n",
    "img_width = 255\n",
    "batch_size = 120\n",
    "\n",
    "test_ds = tf.keras.utils.image_dataset_from_directory(\n",
    "  data_dir,\n",
    "  image_size=(img_height, img_width),\n",
    "  batch_size=batch_size)"
   ]
  },
  {
   "cell_type": "code",
   "execution_count": 5,
   "metadata": {},
   "outputs": [
    {
     "name": "stdout",
     "output_type": "stream",
     "text": [
      "['Test/Blotch_Apple\\\\120.jpg', 'Test/Blotch_Apple\\\\121.jpg', 'Test/Blotch_Apple\\\\122.jpg', 'Test/Blotch_Apple\\\\123.jpg', 'Test/Blotch_Apple\\\\124.jpg', 'Test/Blotch_Apple\\\\125.jpg', 'Test/Blotch_Apple\\\\126.jpg', 'Test/Blotch_Apple\\\\127.jpg', 'Test/Blotch_Apple\\\\128.jpg', 'Test/Blotch_Apple\\\\129.jpg', 'Test/Blotch_Apple\\\\130.jpg', 'Test/Blotch_Apple\\\\131.jpg', 'Test/Blotch_Apple\\\\132.jpg', 'Test/Blotch_Apple\\\\133.jpg', 'Test/Blotch_Apple\\\\134.jpg', 'Test/Blotch_Apple\\\\135.jpg', 'Test/Blotch_Apple\\\\136.jpg', 'Test/Blotch_Apple\\\\137.jpg', 'Test/Blotch_Apple\\\\138.jpg', 'Test/Blotch_Apple\\\\139.jpg', 'Test/Blotch_Apple\\\\140.jpg', 'Test/Blotch_Apple\\\\141.jpg', 'Test/Blotch_Apple\\\\142.jpg', 'Test/Blotch_Apple\\\\143.jpg', 'Test/Blotch_Apple\\\\144.jpg', 'Test/Blotch_Apple\\\\145.jpg', 'Test/Blotch_Apple\\\\146.jpg', 'Test/Blotch_Apple\\\\147.jpg', 'Test/Blotch_Apple\\\\148.jpg', 'Test/Blotch_Apple\\\\149.jpg', 'Test/Normal_Apple\\\\10.jpg', 'Test/Normal_Apple\\\\11.jpg', 'Test/Normal_Apple\\\\21.jpg', 'Test/Normal_Apple\\\\22.jpg', 'Test/Normal_Apple\\\\23.jpg', 'Test/Normal_Apple\\\\32.jpg', 'Test/Normal_Apple\\\\33.jpg', 'Test/Normal_Apple\\\\34.jpg', 'Test/Normal_Apple\\\\44.jpg', 'Test/Normal_Apple\\\\45.jpg', 'Test/Normal_Apple\\\\46.jpg', 'Test/Normal_Apple\\\\56.jpg', 'Test/Normal_Apple\\\\57.jpg', 'Test/Normal_Apple\\\\58.jpg', 'Test/Normal_Apple\\\\68.jpg', 'Test/Normal_Apple\\\\69.jpg', 'Test/Normal_Apple\\\\70.jpg', 'Test/Normal_Apple\\\\70083966-single-orange-or-yellow-color-apple-or-fruit-with-vitamin-for-healthy-diet-isolated-on-white-backgro.jpg', 'Test/Normal_Apple\\\\80.jpg', 'Test/Normal_Apple\\\\81.jpg', 'Test/Normal_Apple\\\\9.jpg', 'Test/Normal_Apple\\\\images (3).jpg', 'Test/Normal_Apple\\\\images (5).jpg', 'Test/Normal_Apple\\\\images (6).jpg', 'Test/Rot_Apple/2an77pp.jpg', 'Test/Rot_Apple/2an7852.jpg', 'Test/Rot_Apple/2apbkfh.jpg', 'Test/Rot_Apple/2bnf8pw.jpg', 'Test/Rot_Apple/2bxf73h.jpg', 'Test/Rot_Apple/2c3agy6.jpg', 'Test/Rot_Apple/2c45k83.jpg', 'Test/Rot_Apple/2ckghhj.jpg', 'Test/Rot_Apple/2d0wf7n.jpg', 'Test/Rot_Apple/2d56em8.jpg', 'Test/Rot_Apple/2dcmk9m.jpg', 'Test/Rot_Apple/2f40jff.jpg', 'Test/Rot_Apple/a2b2p0.jpg', 'Test/Rot_Apple/ar3jth.jpg', 'Test/Rot_Apple/aybx08.jpg', 'Test/Rot_Apple/bwct8k.jpg', 'Test/Rot_Apple/e3afrg.jpg', 'Test/Rot_Apple/egpynx (1).jpg', 'Test/Rot_Apple/ey1xed.jpg', 'Test/Rot_Apple/fj4tej.jpg', 'Test/Rot_Apple/istockphoto-173903961-612x612.jpg', 'Test/Rot_Apple/istockphoto-500392531-612x612.jpg', 'Test/Rot_Apple/istockphoto-654588270-612x612.jpg', 'Test/Rot_Apple/istockphoto-859980682-612x612.jpg', 'Test/Rot_Apple/istockphoto-878751294-612x612.jpg', 'Test/Rot_Apple/jhy6ea.jpg', 'Test/Rot_Apple/kjbwfk.jpg', 'Test/Rot_Apple/rotten-apple-big-hole-on-260nw-671627224.jpg', 'Test/Rot_Apple/rotten-apple-isolated-on-white-260nw-65162884.jpg', 'Test/Rot_Apple/rotten-apple-on-white-isolated-260nw-1938690064.jpg', 'Test/Rot_Apple/rotting-apples-decay-food-waste-260nw-1762452767.jpg', 'Test/Rot_Apple/rtw6ft.jpg', 'Test/Rot_Apple/t00grw.jpg', 'Test/Rot_Apple/t83m2k.jpg', 'Test/Rot_Apple/td97ab.jpg', 'Test/Rot_Apple/tx04wa.jpg', 'Test/Rot_Apple/wilted-rotten-apple-isolated-on-260nw-338996867.jpg', 'Test/Rot_Apple/wwtx1b.jpg', 'Test/Scab_Apple/17-0814-tree_unknownC_img4-26e35a1-1024x683.jpg', 'Test/Scab_Apple/2c4x4g0.jpg', 'Test/Scab_Apple/2ea9em1.jpg', 'Test/Scab_Apple/ad3gfw.jpg', 'Test/Scab_Apple/AnyConv.com__download (10).jpg', 'Test/Scab_Apple/AnyConv.com__download (4).jpg', 'Test/Scab_Apple/AnyConv.com__images (26).jpg', 'Test/Scab_Apple/AnyConv.com__images (3).jpg', 'Test/Scab_Apple/AnyConv.com__images (33).jpg', 'Test/Scab_Apple/AnyConv.com__images (38).jpg', 'Test/Scab_Apple/AnyConv.com__images (50).jpg', 'Test/Scab_Apple/AnyConv.com__images (58).jpg', 'Test/Scab_Apple/AnyConv.com__images (65).jpg', 'Test/Scab_Apple/AnyConv.com__images (74).jpg', 'Test/Scab_Apple/AnyConv.com__images (78).jpg', 'Test/Scab_Apple/AnyConv.com__images (86).jpg', 'Test/Scab_Apple/AnyConv.com__images (90).jpg', 'Test/Scab_Apple/AnyConv.com__images (95).jpg', 'Test/Scab_Apple/AnyConv.com__images (99).jpg', 'Test/Scab_Apple/br31ba.jpg', 'Test/Scab_Apple/DSC_3705-1q4ivwe.jpg', 'Test/Scab_Apple/dw027a.jpg', 'Test/Scab_Apple/esy-001419324.jpg', 'Test/Scab_Apple/F4134795-7A74-49F2-AD2D-C359C79B0852.jpeg', 'Test/Scab_Apple/kex3dm.jpg', 'Test/Scab_Apple/pg4fhm.jpg', 'Test/Scab_Apple/rp3fh8.jpg', 'Test/Scab_Apple/wkpmtc.jpg']\n"
     ]
    }
   ],
   "source": [
    "appleDirectory_blotch = 'Test/Blotch_Apple'\n",
    "appleDirectory_normal = 'Test/Normal_Apple'\n",
    "appleDirectory_rot = 'Test/Rot_Apple/'\n",
    "appleDirectory_Scab = 'Test/Scab_Apple/'\n",
    "appleDirectory ='Test'\n",
    "edgeFiles = list()\n",
    "\n",
    "directory_list = [appleDirectory_blotch, appleDirectory_normal, appleDirectory_rot, appleDirectory_Scab]\n",
    "\n",
    "for directory in (directory_list):\n",
    "    for filename in os.listdir(directory):\n",
    "        imgFile = os.path.join(directory, filename)\n",
    "        edgeFiles.append(imgFile)\n",
    "print(edgeFiles)"
   ]
  },
  {
   "cell_type": "code",
   "execution_count": 11,
   "metadata": {},
   "outputs": [
    {
     "name": "stdout",
     "output_type": "stream",
     "text": [
      "['Test/Blotch_Apple\\\\147.jpg', 'Test/Rot_Apple/fj4tej.jpg', 'Test/Normal_Apple\\\\32.jpg', 'Test/Rot_Apple/aybx08.jpg', 'Test/Rot_Apple/istockphoto-500392531-612x612.jpg', 'Test/Scab_Apple/DSC_3705-1q4ivwe.jpg', 'Test/Scab_Apple/DSC_3705-1q4ivwe.jpg', 'Test/Normal_Apple\\\\23.jpg', 'Test/Rot_Apple/wwtx1b.jpg', 'Test/Blotch_Apple\\\\129.jpg']\n"
     ]
    }
   ],
   "source": [
    "aqlset_list =(random.choices(edgeFiles,k = 10))\n",
    "print(aqlset_list)\n",
    "\n",
    "\n"
   ]
  },
  {
   "cell_type": "code",
   "execution_count": 7,
   "metadata": {},
   "outputs": [],
   "source": [
    "# class_names = aqlset_list\n",
    "\n",
    "# list = []\n",
    "\n",
    "# for labels in class_names:\n",
    "#     list.append(labels)\n",
    "\n",
    "# print(list)"
   ]
  },
  {
   "cell_type": "code",
   "execution_count": 15,
   "metadata": {},
   "outputs": [
    {
     "name": "stdout",
     "output_type": "stream",
     "text": [
      "[<tf.Tensor: shape=(120,), dtype=int32, numpy=\n",
      "array([3, 2, 2, 0, 1, 2, 0, 0, 3, 0, 1, 1, 1, 3, 1, 3, 1, 2, 3, 2, 0, 1,\n",
      "       3, 2, 3, 3, 3, 3, 0, 1, 3, 3, 1, 1, 0, 0, 3, 3, 0, 2, 2, 1, 2, 2,\n",
      "       0, 2, 1, 0, 0, 2, 2, 2, 2, 2, 0, 3, 2, 0, 2, 2, 2, 1, 0, 0, 3, 0,\n",
      "       2, 2, 3, 0, 0, 0, 2, 2, 1, 1, 3, 2, 2, 3, 2, 0, 0, 1, 0, 0, 1, 2,\n",
      "       0, 3, 2, 3, 1, 1, 3, 3, 1, 2, 2, 3, 0, 0, 0, 2, 2, 2, 1, 3, 3, 0,\n",
      "       3, 2, 1, 2, 2, 2, 3, 0, 1, 1])>]\n"
     ]
    }
   ],
   "source": [
    "class_names = aqlset_list\n",
    "\n",
    "sampleBatch = []\n",
    "\n",
    "for images, labels in test_ds.take(1):\n",
    "    sampleBatch.append(labels)\n",
    "\n",
    "print(sampleBatch)\n"
   ]
  },
  {
   "cell_type": "code",
   "execution_count": 16,
   "metadata": {},
   "outputs": [
    {
     "name": "stdout",
     "output_type": "stream",
     "text": [
      "The batch has been rejected\n",
      "\n",
      "The total batch of 1 apples consists of:\n",
      "Healthy apples: 1\n",
      "Blotch apples: 0\n",
      "Rot apples: 2\n",
      "Scab apples: 3\n",
      "\n"
     ]
    }
   ],
   "source": [
    "# sampleBatch = [\"r\",\"s\",\"s\",\"b\",\"h\",\"h\",\"h\",\"h\",\"h\",\"h\",\"h\",\"h\",\"h\",\"h\",\"h\",\"h\",\"h\",\"h\",\"h\",\"h\",\n",
    "#                \"h\",\"h\",\"h\",\"h\",\"h\",\"h\",\"h\",\"h\",\"h\",\"h\",\"h\",\"h\",\"h\",\"h\",\"h\",\"h\",\"h\",\"h\",\"h\",\"h\",\n",
    "#                \"h\",\"h\",\"h\",\"h\",\"h\",\"h\",\"h\",\"h\",\"h\",\"h\",\"h\",\"h\",\"h\",\"h\",\"h\",\"h\",\"h\",\"h\",\"h\",\"h\",\n",
    "#                \"h\",\"h\",\"h\",\"h\",\"h\",\"h\",\"h\",\"h\",\"h\",\"h\",\"h\",\"h\",\"h\",\"h\",\"h\",\"h\",\"h\",\"h\",\"h\",\"h\",]\n",
    "\n",
    "\n",
    "blotchApple = (0)\n",
    "appleScore = (1)\n",
    "rotApple = (2)\n",
    "scabApple = (3)\n",
    "\n",
    "\n",
    "def AQLTestscore():\n",
    "\n",
    "    for apple in sampleBatch:\n",
    "        \n",
    "        if appleScore >=79:\n",
    "            print (f'The batch has been quallified as: Class 1\\n')\n",
    "        elif appleScore >=75:\n",
    "            print (f'The batch has been quallified as: Class 2\\n')\n",
    "        elif appleScore >=73:\n",
    "            print (f'The batch has been quallified as: Class 3\\n')\n",
    "        else:\n",
    "            print (f'The batch has been rejected\\n')\n",
    "\n",
    "        print (f'The total batch of {len(sampleBatch)} apples consists of:\\n'\n",
    "        f'Healthy apples: {appleScore}\\n'\n",
    "        f'Blotch apples: {blotchApple}\\n'\n",
    "        f'Rot apples: {rotApple}\\n'\n",
    "        f'Scab apples: {scabApple}\\n')\n",
    "        break\n",
    "    \n",
    "AQLTestscore()"
   ]
  },
  {
   "cell_type": "code",
   "execution_count": 10,
   "metadata": {},
   "outputs": [
    {
     "name": "stdout",
     "output_type": "stream",
     "text": [
      "The batch has been quallified as: Class 2\n",
      "\n",
      "The total batch of 80 apples consists of:\n",
      "Healthy apples: 76\n",
      "Blotch apples: 1\n",
      "Rot apples: 1\n",
      "Scab apples: 2\n",
      "\n"
     ]
    }
   ],
   "source": [
    "sampleBatch = [\"r\",\"s\",\"s\",\"b\",\"h\",\"h\",\"h\",\"h\",\"h\",\"h\",\"h\",\"h\",\"h\",\"h\",\"h\",\"h\",\"h\",\"h\",\"h\",\"h\",\n",
    "               \"h\",\"h\",\"h\",\"h\",\"h\",\"h\",\"h\",\"h\",\"h\",\"h\",\"h\",\"h\",\"h\",\"h\",\"h\",\"h\",\"h\",\"h\",\"h\",\"h\",\n",
    "               \"h\",\"h\",\"h\",\"h\",\"h\",\"h\",\"h\",\"h\",\"h\",\"h\",\"h\",\"h\",\"h\",\"h\",\"h\",\"h\",\"h\",\"h\",\"h\",\"h\",\n",
    "               \"h\",\"h\",\"h\",\"h\",\"h\",\"h\",\"h\",\"h\",\"h\",\"h\",\"h\",\"h\",\"h\",\"h\",\"h\",\"h\",\"h\",\"h\",\"h\",\"h\",]\n",
    "#sampleBatch = list\n",
    "\n",
    "blotchApple = sampleBatch.count(\"b\")\n",
    "appleScore = sampleBatch.count(\"h\")\n",
    "rotApple = sampleBatch.count(\"r\")\n",
    "scabApple = sampleBatch.count(\"s\")\n",
    "\n",
    "\n",
    "def AQLTestscore():\n",
    "\n",
    "    for apple in sampleBatch:\n",
    "        \n",
    "        if appleScore >=79:\n",
    "            print (f'The batch has been quallified as: Class 1\\n')\n",
    "        elif appleScore >=75:\n",
    "            print (f'The batch has been quallified as: Class 2\\n')\n",
    "        elif appleScore >=73:\n",
    "            print (f'The batch has been quallified as: Class 3\\n')\n",
    "        else:\n",
    "            print (f'The batch has been rejected\\n')\n",
    "\n",
    "        print (f'The total batch of {len(sampleBatch)} apples consists of:\\n'\n",
    "        f'Healthy apples: {appleScore}\\n'\n",
    "        f'Blotch apples: {blotchApple}\\n'\n",
    "        f'Rot apples: {rotApple}\\n'\n",
    "        f'Scab apples: {scabApple}\\n')\n",
    "        break\n",
    "    \n",
    "AQLTestscore()"
   ]
  }
 ],
 "metadata": {
  "kernelspec": {
   "display_name": "Python 3.10.7 ('env': venv)",
   "language": "python",
   "name": "python3"
  },
  "language_info": {
   "codemirror_mode": {
    "name": "ipython",
    "version": 3
   },
   "file_extension": ".py",
   "mimetype": "text/x-python",
   "name": "python",
   "nbconvert_exporter": "python",
   "pygments_lexer": "ipython3",
   "version": "3.10.7"
  },
  "orig_nbformat": 4,
  "vscode": {
   "interpreter": {
    "hash": "978273bfcf4177b0f4cb0f6d706d4399d8f5389363e4bd9f2de20519cd18db80"
   }
  }
 },
 "nbformat": 4,
 "nbformat_minor": 2
}
