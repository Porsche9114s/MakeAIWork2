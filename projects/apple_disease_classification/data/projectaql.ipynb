{
 "cells": [
  {
   "cell_type": "code",
   "execution_count": null,
   "metadata": {},
   "outputs": [],
   "source": [
    "\"\"\"\n",
    "AQL is de afkorting voor Acceptable Quality Level. De AQL-waarde is het maximale uitvalpercentage, of het maximale \n",
    "aantal fouten per 100 eenheden, dat als aanvaardbare grenskwaliteit wordt gezien. \n",
    "Bij de bepaling van de AQL-waarde moet dus in elk geval het gemiddelde uitvalpercentage van de productie of de \n",
    "leveringen lager liggen dan de AQL-waarde.\n",
    "\"\"\""
   ]
  },
  {
   "cell_type": "code",
   "execution_count": 1,
   "metadata": {},
   "outputs": [],
   "source": [
    "\n",
    "import tensorflow as tf\n",
    "from tensorflow import keras\n",
    "from keras import datasets, layers, models, Sequential\n",
    "import matplotlib.pyplot as plt\n",
    "import random\n",
    "from random import choices\n",
    "from keras.preprocessing import image\n",
    "import numpy\n",
    "import os\n",
    "from PIL import Image\n",
    "import io\n",
    "import matplotlib.pyplot as plt\n",
    "import matplotlib.image as mpimg\n",
    "import numpy as np\n",
    "import os\n",
    "from sklearn.model_selection import train_test_split\n",
    "import random\n",
    "import requests\n",
    "import scipy as sp\n",
    "from scipy import ndimage\n",
    "import tensorflow as tf\n",
    "import tensorflow.keras as keras\n",
    "import zipfile\n",
    "import pandas as pd\n",
    "from pandas import DataFrame\n",
    "import matplotlib.pyplot as plt\n",
    "import numpy as np\n",
    "import PIL\n",
    "import tensorflow as tf\n",
    "import pathlib\n",
    "from tensorflow.python.ops.numpy_ops import np_config\n",
    "import matplotlib.pyplot as plt\n",
    "import numpy as np\n",
    "import tensorflow as tf\n",
    "import tensorflow.experimental.numpy as tnp\n",
    "from keras import datasets, layers, models, Sequential\n",
    "from keras.preprocessing import image\n",
    "from PIL import Image\n",
    "import pandas as pd\n",
    "from pandas import DataFrame\n",
    "import PIL\n",
    "import matplotlib.pyplot as plt\n",
    "import numpy as np\n",
    "import tensorflow as tf\n",
    "from tensorflow import keras\n",
    "import timeit\n",
    "from tensorflow import keras\n",
    "from tensorflow.keras import layers\n",
    "from tensorflow.keras.models import Sequential\n",
    " "
   ]
  },
  {
   "cell_type": "code",
   "execution_count": 2,
   "metadata": {},
   "outputs": [],
   "source": [
    "os.environ['TF_CPP_MIN_LEVEL'] = '2'"
   ]
  },
  {
   "cell_type": "code",
   "execution_count": 3,
   "metadata": {},
   "outputs": [
    {
     "name": "stdout",
     "output_type": "stream",
     "text": [
      "Found 120 files belonging to 4 classes.\n"
     ]
    }
   ],
   "source": [
    "data_dir = 'Test'\n",
    "\n",
    "img_height = 255\n",
    "img_width = 255\n",
    "batch_size = 120\n",
    "\n",
    "test_ds = tf.keras.utils.image_dataset_from_directory(\n",
    "  data_dir,\n",
    "  image_size=(img_height, img_width),\n",
    "  batch_size=batch_size)"
   ]
  },
  {
   "cell_type": "code",
   "execution_count": 4,
   "metadata": {},
   "outputs": [
    {
     "name": "stdout",
     "output_type": "stream",
     "text": [
      "[<tf.Tensor: shape=(120,), dtype=int32, numpy=\n",
      "array([0, 3, 3, 0, 0, 3, 3, 0, 2, 0, 1, 3, 2, 0, 1, 2, 2, 3, 2, 2, 2, 0,\n",
      "       2, 1, 0, 3, 2, 0, 1, 1, 0, 2, 2, 3, 3, 1, 0, 1, 2, 2, 0, 1, 2, 1,\n",
      "       2, 0, 0, 1, 2, 2, 2, 0, 1, 0, 2, 2, 1, 1, 2, 3, 2, 3, 2, 2, 1, 0,\n",
      "       3, 0, 0, 0, 0, 3, 0, 1, 3, 3, 3, 1, 3, 3, 0, 2, 2, 1, 3, 0, 2, 1,\n",
      "       3, 0, 2, 2, 3, 0, 2, 3, 2, 2, 2, 0, 0, 1, 2, 2, 2, 3, 2, 1, 3, 1,\n",
      "       2, 1, 3, 3, 3, 3, 0, 0, 1, 1])>]\n"
     ]
    }
   ],
   "source": [
    "sampleBatch = []\n",
    "\n",
    "for images, labels in test_ds.take(1):\n",
    "    sampleBatch.append(labels)\n",
    "\n",
    "print(sampleBatch)"
   ]
  },
  {
   "cell_type": "code",
   "execution_count": 5,
   "metadata": {},
   "outputs": [],
   "source": [
    "sampleBatch[0]\n",
    "sampleBatch[0].numpy().tolist()\n",
    "samplebatchnp = sampleBatch[0].numpy()\n",
    "samplebatchlist = samplebatchnp.tolist()\n"
   ]
  },
  {
   "cell_type": "code",
   "execution_count": 6,
   "metadata": {},
   "outputs": [
    {
     "name": "stdout",
     "output_type": "stream",
     "text": [
      "[0, 3, 3, 0, 0, 3, 3, 0, 2, 0, 1, 3, 2, 0, 1, 2, 2, 3, 2, 2, 2, 0, 2, 1, 0, 3, 2, 0, 1, 1, 0, 2, 2, 3, 3, 1, 0, 1, 2, 2, 0, 1, 2, 1, 2, 0, 0, 1, 2, 2, 2, 0, 1, 0, 2, 2, 1, 1, 2, 3, 2, 3, 2, 2, 1, 0, 3, 0, 0, 0, 0, 3, 0, 1, 3, 3, 3, 1, 3, 3, 0, 2, 2, 1, 3, 0, 2, 1, 3, 0, 2, 2, 3, 0, 2, 3, 2, 2, 2, 0, 0, 1, 2, 2, 2, 3, 2, 1, 3, 1, 2, 1, 3, 3, 3, 3, 0, 0, 1, 1]\n",
      "30\n",
      "24\n",
      "38\n",
      "28\n"
     ]
    }
   ],
   "source": [
    "print(samplebatchlist)\n",
    "print(samplebatchlist.count(0))\n",
    "print(samplebatchlist.count(1))\n",
    "print(samplebatchlist.count(2))\n",
    "print(samplebatchlist.count(3))"
   ]
  },
  {
   "cell_type": "code",
   "execution_count": 7,
   "metadata": {},
   "outputs": [
    {
     "name": "stdout",
     "output_type": "stream",
     "text": [
      "[2, 2, 3, 2, 1, 3, 3, 3, 2, 2, 1, 3, 1, 3, 1, 3, 1, 2, 0, 2, 2, 0, 2, 0, 2, 0, 1, 2, 2, 0, 2, 2, 0, 3, 1, 0, 0, 3, 3, 0, 2, 2, 3, 1, 3, 0, 3, 3, 1, 0, 1, 2, 2, 1, 2, 2, 2, 2, 3, 2, 2, 0, 3, 2, 0, 3, 0, 0, 2, 3, 0, 0, 3, 1, 2, 3, 3, 3, 2, 3]\n"
     ]
    }
   ],
   "source": [
    "aqlset_list =(random.choices(samplebatchlist,k = 80))\n",
    "print(aqlset_list)"
   ]
  },
  {
   "cell_type": "code",
   "execution_count": 8,
   "metadata": {},
   "outputs": [
    {
     "name": "stdout",
     "output_type": "stream",
     "text": [
      "The batch has been rejected\n",
      "\n",
      "The total batch of 80 apples consists of:\n",
      "Healthy apples: 12\n",
      "Blotch apples: 17\n",
      "Rot apples: 28\n",
      "Scab apples: 23\n",
      "\n"
     ]
    }
   ],
   "source": [
    "blotchApple = aqlset_list.count(0)\n",
    "HealtyApple = aqlset_list.count(1)\n",
    "rotApple = aqlset_list.count(2)\n",
    "scabApple = aqlset_list.count(3)\n",
    "\n",
    "def AQLTestscore():\n",
    "\n",
    "    for apple in aqlset_list:\n",
    "        \n",
    "        if HealtyApple >=79:\n",
    "            print (f'The batch has been quallified as: Class 1\\n')\n",
    "        elif HealtyApple >=75:\n",
    "            print (f'The batch has been quallified as: Class 2\\n')\n",
    "        elif HealtyApple >=73:\n",
    "            print (f'The batch has been quallified as: Class 3\\n')\n",
    "        else:\n",
    "            print (f'The batch has been rejected\\n')\n",
    "\n",
    "        print (f'The total batch of {len(aqlset_list)} apples consists of:\\n'\n",
    "        f'Healthy apples: {HealtyApple}\\n'\n",
    "        f'Blotch apples: {blotchApple}\\n'\n",
    "        f'Rot apples: {rotApple}\\n'\n",
    "        f'Scab apples: {scabApple}\\n')\n",
    "        break\n",
    "    \n",
    "AQLTestscore()"
   ]
  },
  {
   "cell_type": "code",
   "execution_count": 9,
   "metadata": {},
   "outputs": [
    {
     "data": {
      "image/png": "[encoded data removed]",
      "text/plain": [
       "<Figure size 1000x700 with 1 Axes>"
      ]
     },
     "metadata": {},
     "output_type": "display_data"
    }
   ],
   "source": [
    "# Creating dataset\n",
    "appleLabels = ['Normal', 'Blotch', 'Rot', 'Scab']\n",
    " \n",
    "data = [HealtyApple, blotchApple, rotApple, scabApple]\n",
    "\n",
    "# Creating explode data\n",
    "explode = (0.0, 0.0, 0.0, 0.0) # not necessary\n",
    "\n",
    "# Wedge properties\n",
    "wp = { 'linewidth' : 0.5, 'edgecolor' : \"white\" }\n",
    "\n",
    "# Creating autocpt arguments\n",
    "def func(pct, allvalues):\n",
    "\tabsolute = int(pct / 100.*np.sum(allvalues))\n",
    "\treturn \"{:.1f}%\\n\".format(pct, absolute)\n",
    "\n",
    "# Creating plot\n",
    "fig, ax = plt.subplots(figsize =(10, 7))\n",
    "wedges, texts, autotexts = ax.pie(data,\n",
    "\t\t\t\t\t\t\t\tautopct = lambda pct: func(pct, data),\n",
    "\t\t\t\t\t\t\t\texplode = explode,\n",
    "\t\t\t\t\t\t\t\tlabels = appleLabels,\n",
    "\t\t\t\t\t\t\t\tshadow = False,\n",
    "\t\t\t\t\t\t\t\tstartangle = 15,\n",
    "\t\t\t\t\t\t\t\twedgeprops = wp,\n",
    "\t\t\t\t\t\t\t\ttextprops = dict(color =\"#115C53\"))\n",
    "\n",
    "# Adding legend\n",
    "ax.legend(wedges, appleLabels,\n",
    "\t\ttitle =\"Apples\",\n",
    "\t\tloc =\"upper left\",\n",
    "\t\tbbox_to_anchor =(1, 0, 0.5, 1))\n",
    "\n",
    "plt.setp(autotexts, size = 8, weight =\"bold\")\n",
    "ax.set_title(\"Samenstelling appelbatch\") # add Classification as title\n",
    "\n",
    "#show plot\n",
    "plt.show() "
   ]
  }
 ],
 "metadata": {
  "kernelspec": {
   "display_name": "Python 3.10.7 ('env': venv)",
   "language": "python",
   "name": "python3"
  },
  "language_info": {
   "codemirror_mode": {
    "name": "ipython",
    "version": 3
   },
   "file_extension": ".py",
   "mimetype": "text/x-python",
   "name": "python",
   "nbconvert_exporter": "python",
   "pygments_lexer": "ipython3",
   "version": "3.10.7"
  },
  "orig_nbformat": 4,
  "vscode": {
   "interpreter": {
    "hash": "978273bfcf4177b0f4cb0f6d706d4399d8f5389363e4bd9f2de20519cd18db80"
   }
  }
 },
 "nbformat": 4,
 "nbformat_minor": 2
}
