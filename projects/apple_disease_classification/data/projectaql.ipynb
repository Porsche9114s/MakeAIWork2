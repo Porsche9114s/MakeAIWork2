{
 "cells": [
  {
   "cell_type": "code",
   "execution_count": null,
   "metadata": {},
   "outputs": [],
   "source": [
    "\n",
    "\n",
    "# \"\"\"\n",
    "\n",
    "# # Player starts with $40\n",
    "# playerBank = 40\n",
    "\n",
    "# rounds = 0\n",
    "# bankMax = 0\n",
    "\n",
    "# # Simulation starts here\n",
    "# while playerBank > 0:\n",
    "#     # 1. Place bet: choose color and subtract $10\n",
    "#     choice = Black  # (of rood of black als je constant bijvoorbeeld dezelfde kleur kiest)\n",
    "#     playerBank -= 10\n",
    "#     # 2. Casino rolls ball to determine color outcome\n",
    "#     color = roll()\n",
    "#     # 3. Check if win or lose\n",
    "#     if choice == color:\n",
    "#         # 4. Update bank\n",
    "#         playerBank += 20\n",
    "#     # 5. Update round counter\n",
    "#     rounds += 1\n",
    "#     # Check maximum blayerBank (wat is het grootste bedrag in mijn portemonee)\n",
    "#     if bankMax < playerBank:\n",
    "#         bankMax = playerBank\n",
    "\n",
    "# print(rounds)\n",
    "# print(bankMax)\n",
    "\n",
    "# # 1. fabriek produceert 75000 lampen per dag\n",
    "\n",
    "# productionBulbs = 75000\n",
    "\n",
    "# from random import randrange\n",
    "\n",
    "# # bepalen of hij heel of kapot is\n",
    "# Red = 'red'\n",
    "# Green = 'green'\n",
    "\n",
    "# def roll():\n",
    "#     # randrange laten bepalen dat 1500=(2%) lampen een ander label krijgen.\n",
    "#     if randrange(0, 75000) < 73500:\n",
    "#         #Groen is heel\n",
    "#         return Green\n",
    "#     else:\n",
    "#         #Rood is kapot\n",
    "#         return Red\n",
    "\n",
    "# productionBulb = 75000\n",
    "# testRound = 0\n",
    "# heleLampen = 0\n",
    "# kapotteLampen = 0\n",
    "# testCyclus = 0\n",
    "\n",
    "# while testCyclus < 10:\n",
    "#     testCyclus += 1\n",
    "#     testRound = 0\n",
    "#     while testRound < 25:\n",
    "#         choice = Green\n",
    "#         lamp = roll()\n",
    "#         testRound += 1\n",
    "#         if lamp == Green:\n",
    "#             heleLampen += 1\n",
    "\n",
    "#         if lamp == Red:\n",
    "#             kapotteLampen += 1\n",
    "\n",
    "# print('Hele lampen', heleLampen)\n",
    "# print ('Kapotte lampen', kapotteLampen)\n",
    "# \"\"\"\n",
    "\n"
   ]
  },
  {
   "cell_type": "code",
   "execution_count": null,
   "metadata": {},
   "outputs": [],
   "source": [
    "\"\"\"\n",
    "AQL is de afkorting voor Acceptable Quality Level. De AQL-waarde is het maximale uitvalpercentage, of het maximale \n",
    "aantal fouten per 100 eenheden, dat als aanvaardbare grenskwaliteit wordt gezien. \n",
    "Bij de bepaling van de AQL-waarde moet dus in elk geval het gemiddelde uitvalpercentage van de productie of de \n",
    "leveringen lager liggen dan de AQL-waarde.\n",
    "\"\"\""
   ]
  },
  {
   "cell_type": "code",
   "execution_count": 7,
   "metadata": {},
   "outputs": [],
   "source": [
    "\n",
    "import tensorflow as tf\n",
    "from tensorflow import keras\n",
    "from keras import datasets, layers, models, Sequential"
   ]
  },
  {
   "cell_type": "code",
   "execution_count": 11,
   "metadata": {},
   "outputs": [
    {
     "name": "stdout",
     "output_type": "stream",
     "text": [
      "Found 120 files belonging to 4 classes.\n",
      "Found 120 files belonging to 4 classes.\n"
     ]
    }
   ],
   "source": [
    "data_dir = 'Test'\n",
    "\n",
    "\n",
    "img_height = 360\n",
    "img_width = 360\n",
    "batch_size = 32\n",
    "\n",
    "test_ds = tf.keras.utils.image_dataset_from_directory(\n",
    "  data_dir,\n",
    "  # validation_split=0.2,\n",
    "  # subset=\"training\", \n",
    "  # seed=123,\n",
    "  image_size=(img_height, img_width),\n",
    "  batch_size=batch_size)\n",
    "\n",
    "val_ds = tf.keras.utils.image_dataset_from_directory(\n",
    "  data_dir,\n",
    "  # validation_split=0.2,\n",
    "  # subset=\"validation\",\n",
    "  # seed=123,\n",
    "  image_size=(img_height, img_width),\n",
    "  batch_size=batch_size)"
   ]
  },
  {
   "cell_type": "code",
   "execution_count": null,
   "metadata": {},
   "outputs": [],
   "source": [
    "from random import choices\n",
    "choices\n",
    "from keras.preprocessing import image\n",
    "import numpy as np\n",
    "import os\n",
    "import random\n",
    "\n",
    "# aqlImages = random.choice(test_ds)\n",
    "# img = image.load_img(test_img, target_size = (208,256))\n",
    "# img = image.img_to_array(img, dtype=np.uint8)\n",
    "# img = np.array(img)/255.0\n",
    "# prediction = model.predict(img[np.newaxis, ...])\n",
    "\n",
    "# print(\"Probability: \",np.max(prediction[0], axis=-1))\n",
    "# predicted_class = class_names[np.argmax(prediction[0], axis=-1)]\n",
    "# print(\"Classified: \",predicted_class,'\\n')\n",
    "\n",
    "# plt.axis('off')\n",
    "# plt.imshow(img.squeeze())\n",
    "# plt.title(\"Loaded Image\")\n",
    "\n",
    "\n",
    "# generate random integer values\n",
    "# from random import choices\n",
    "# from random import randint\n",
    "# # seed random number generator\n",
    "# choices(test_ds)\n",
    "# # generate some integers\n",
    "# for _ in range(test_ds):\n",
    "# \tvalue = choices(0, 40 )\n",
    "# \tprint(value)\n"
   ]
  },
  {
   "cell_type": "code",
   "execution_count": null,
   "metadata": {},
   "outputs": [],
   "source": []
  }
 ],
 "metadata": {
  "kernelspec": {
   "display_name": "Python 3.10.7 ('env': venv)",
   "language": "python",
   "name": "python3"
  },
  "language_info": {
   "codemirror_mode": {
    "name": "ipython",
    "version": 3
   },
   "file_extension": ".py",
   "mimetype": "text/x-python",
   "name": "python",
   "nbconvert_exporter": "python",
   "pygments_lexer": "ipython3",
   "version": "3.10.7"
  },
  "orig_nbformat": 4,
  "vscode": {
   "interpreter": {
    "hash": "978273bfcf4177b0f4cb0f6d706d4399d8f5389363e4bd9f2de20519cd18db80"
   }
  }
 },
 "nbformat": 4,
 "nbformat_minor": 2
}
