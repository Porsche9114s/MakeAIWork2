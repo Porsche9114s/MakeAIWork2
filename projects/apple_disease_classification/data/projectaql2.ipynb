{
 "cells": [
  {
   "cell_type": "code",
   "execution_count": 1,
   "metadata": {},
   "outputs": [],
   "source": [
    "\n",
    "\n",
    "# \"\"\"\n",
    "\n",
    "# # Player starts with $40\n",
    "# playerBank = 40\n",
    "\n",
    "# rounds = 0\n",
    "# bankMax = 0\n",
    "\n",
    "# # Simulation starts here\n",
    "# while playerBank > 0:\n",
    "#     # 1. Place bet: choose color and subtract $10\n",
    "#     choice = Black  # (of rood of black als je constant bijvoorbeeld dezelfde kleur kiest)\n",
    "#     playerBank -= 10\n",
    "#     # 2. Casino rolls ball to determine color outcome\n",
    "#     color = roll()\n",
    "#     # 3. Check if win or lose\n",
    "#     if choice == color:\n",
    "#         # 4. Update bank\n",
    "#         playerBank += 20\n",
    "#     # 5. Update round counter\n",
    "#     rounds += 1\n",
    "#     # Check maximum blayerBank (wat is het grootste bedrag in mijn portemonee)\n",
    "#     if bankMax < playerBank:\n",
    "#         bankMax = playerBank\n",
    "\n",
    "# print(rounds)\n",
    "# print(bankMax)\n",
    "\n",
    "# # 1. fabriek produceert 75000 lampen per dag\n",
    "\n",
    "# productionBulbs = 75000\n",
    "\n",
    "# from random import randrange\n",
    "\n",
    "# # bepalen of hij heel of kapot is\n",
    "# Red = 'red'\n",
    "# Green = 'green'\n",
    "\n",
    "# def roll():\n",
    "#     # randrange laten bepalen dat 1500=(2%) lampen een ander label krijgen.\n",
    "#     if randrange(0, 75000) < 73500:\n",
    "#         #Groen is heel\n",
    "#         return Green\n",
    "#     else:\n",
    "#         #Rood is kapot\n",
    "#         return Red\n",
    "\n",
    "# productionBulb = 75000\n",
    "# testRound = 0\n",
    "# heleLampen = 0\n",
    "# kapotteLampen = 0\n",
    "# testCyclus = 0\n",
    "\n",
    "# while testCyclus < 10:\n",
    "#     testCyclus += 1\n",
    "#     testRound = 0\n",
    "#     while testRound < 25:\n",
    "#         choice = Green\n",
    "#         lamp = roll()\n",
    "#         testRound += 1\n",
    "#         if lamp == Green:\n",
    "#             heleLampen += 1\n",
    "\n",
    "#         if lamp == Red:\n",
    "#             kapotteLampen += 1\n",
    "\n",
    "# print('Hele lampen', heleLampen)\n",
    "# print ('Kapotte lampen', kapotteLampen)\n",
    "# \"\"\"\n",
    "\n"
   ]
  },
  {
   "cell_type": "code",
   "execution_count": 2,
   "metadata": {},
   "outputs": [
    {
     "data": {
      "text/plain": [
       "'\\nAQL is de afkorting voor Acceptable Quality Level. De AQL-waarde is het maximale uitvalpercentage, of het maximale \\naantal fouten per 100 eenheden, dat als aanvaardbare grenskwaliteit wordt gezien. \\nBij de bepaling van de AQL-waarde moet dus in elk geval het gemiddelde uitvalpercentage van de productie of de \\nleveringen lager liggen dan de AQL-waarde.\\n'"
      ]
     },
     "execution_count": 2,
     "metadata": {},
     "output_type": "execute_result"
    }
   ],
   "source": [
    "\"\"\"\n",
    "AQL is de afkorting voor Acceptable Quality Level. De AQL-waarde is het maximale uitvalpercentage, of het maximale \n",
    "aantal fouten per 100 eenheden, dat als aanvaardbare grenskwaliteit wordt gezien. \n",
    "Bij de bepaling van de AQL-waarde moet dus in elk geval het gemiddelde uitvalpercentage van de productie of de \n",
    "leveringen lager liggen dan de AQL-waarde.\n",
    "\"\"\""
   ]
  },
  {
   "cell_type": "code",
   "execution_count": 22,
   "metadata": {},
   "outputs": [],
   "source": [
    "\n",
    "import tensorflow as tf\n",
    "from tensorflow import keras\n",
    "from keras import datasets, layers, models, Sequential\n",
    "import matplotlib.pyplot as plt\n",
    "import random\n",
    "from random import choices\n",
    "from keras.preprocessing import image\n",
    "import numpy\n",
    "import os\n",
    "from PIL import Image\n",
    "import io\n",
    "import matplotlib.pyplot as plt\n",
    "import matplotlib.image as mpimg\n",
    "import numpy as np\n",
    "import os\n",
    "from sklearn.model_selection import train_test_split\n",
    "import random\n",
    "import requests\n",
    "import scipy as sp\n",
    "from scipy import ndimage\n",
    "import tensorflow as tf\n",
    "import tensorflow.keras as keras\n",
    "import zipfile\n",
    "import pandas as pd\n",
    "from pandas import DataFrame\n",
    "import matplotlib.pyplot as plt\n",
    "import numpy as np\n",
    "import PIL\n",
    "import tensorflow as tf\n",
    "import pathlib\n",
    "from tensorflow.python.ops.numpy_ops import np_config\n",
    "import matplotlib.pyplot as plt\n",
    "import numpy as np\n",
    "import tensorflow as tf\n",
    "import tensorflow.experimental.numpy as tnp\n",
    "import timeit\n",
    "\n",
    "from tensorflow import keras\n",
    "from tensorflow.keras import layers\n",
    "from tensorflow.keras.models import Sequential\n"
   ]
  },
  {
   "cell_type": "code",
   "execution_count": 23,
   "metadata": {},
   "outputs": [],
   "source": [
    "os.environ['TF_CPP_MIN_LEVEL'] = '2'"
   ]
  },
  {
   "cell_type": "code",
   "execution_count": 26,
   "metadata": {},
   "outputs": [
    {
     "name": "stdout",
     "output_type": "stream",
     "text": [
      "Test/Test2\n"
     ]
    }
   ],
   "source": [
    "data_dir = 'Test/Test2'\n",
    "\n",
    "# txtFiles = list()\n",
    "\n",
    "# for txtFile in data_dir.namefile():\n",
    "#     txtFiles.append(txtFile)\n",
    "#     print(txtFile)\n",
    "\n",
    "\n",
    "\n",
    "\n",
    "img_height = 255\n",
    "img_width = 255\n",
    "batch_size = 32\n",
    "\n",
    "test_ds = tf.keras.utils.image_dataset_from_directory(\n",
    "  data_dir,\n",
    "  image_size=(img_height, img_width),\n",
    "  batch_size=batch_size)\n"
   ]
  },
  {
   "cell_type": "code",
   "execution_count": 6,
   "metadata": {},
   "outputs": [],
   "source": [
    "#batch = test_ds.as_numpy_iterator().next()\n"
   ]
  },
  {
   "cell_type": "code",
   "execution_count": 7,
   "metadata": {},
   "outputs": [],
   "source": [
    "\n",
    "# class_names = test_ds.class_names\n",
    "# plt.figure(figsize=(10, 10))\n",
    "# for images, labels in test_ds.take(1):\n",
    "#   for i in range(9):\n",
    "#     ax = plt.subplot(3, 3, i + 1)\n",
    "#     plt.imshow(images[i].numpy().astype(\"uint8\"))\n",
    "#     plt.title(class_names[labels[i]])\n",
    "#     plt.axis(\"off\")\n"
   ]
  },
  {
   "cell_type": "code",
   "execution_count": 25,
   "metadata": {},
   "outputs": [
    {
     "ename": "NameError",
     "evalue": "name 'test_ds' is not defined",
     "output_type": "error",
     "traceback": [
      "\u001b[1;31m---------------------------------------------------------------------------\u001b[0m",
      "\u001b[1;31mNameError\u001b[0m                                 Traceback (most recent call last)",
      "Cell \u001b[1;32mIn [25], line 1\u001b[0m\n\u001b[1;32m----> 1\u001b[0m test_ds2 \u001b[39m=\u001b[39m (random\u001b[39m.\u001b[39mchoices(test_ds))\n\u001b[0;32m      2\u001b[0m \u001b[39mprint\u001b[39m(test_ds2)\n",
      "\u001b[1;31mNameError\u001b[0m: name 'test_ds' is not defined"
     ]
    }
   ],
   "source": [
    "\n",
    "test_ds2 = (random.choices(test_ds))\n",
    "print(test_ds2)"
   ]
  },
  {
   "cell_type": "code",
   "execution_count": 9,
   "metadata": {},
   "outputs": [
    {
     "ename": "IndentationError",
     "evalue": "expected an indented block after 'for' statement on line 5 (1715782456.py, line 6)",
     "output_type": "error",
     "traceback": [
      "\u001b[1;36m  Cell \u001b[1;32mIn [9], line 6\u001b[1;36m\u001b[0m\n\u001b[1;33m    ax = plt.subplot(3, 3, i + 1)\u001b[0m\n\u001b[1;37m                                 ^\u001b[0m\n\u001b[1;31mIndentationError\u001b[0m\u001b[1;31m:\u001b[0m expected an indented block after 'for' statement on line 5\n"
     ]
    }
   ],
   "source": [
    "\n",
    "    print(labels)\n",
    "class_names = test_ds2.class_names\n",
    "plt.figure(figsize=(10, 10))\n",
    "for images, labels in test_ds2.take(1):\n",
    "  for i in range(9):\n",
    "    ax = plt.subplot(3, 3, i + 1)\n",
    "    plt.imshow(images[i].numpy().astype(\"uint8\"))\n",
    "    plt.title(class_names[labels[i]])\n",
    "    plt.axis(\"off\")"
   ]
  },
  {
   "cell_type": "code",
   "execution_count": null,
   "metadata": {},
   "outputs": [],
   "source": [
    "class_names = test_ds.class_names\n",
    "plt.figure(figsize=(10, 10))\n",
    "for images, labels in test_ds.take(1):\n",
    "  for i in range(9):\n",
    "    ax = plt.subplot(3, 3, i + 1)\n",
    "    plt.imshow(images[i].numpy().astype(\"uint8\"))\n",
    "    plt.title(class_names[labels[i]])\n",
    "    plt.axis(\"off\")"
   ]
  },
  {
   "cell_type": "code",
   "execution_count": null,
   "metadata": {},
   "outputs": [],
   "source": [
    "for image_batch, labels_batch in test_ds:\n",
    "  print(image_batch.shape)\n",
    "  print(labels_batch.shape)\n",
    "  break"
   ]
  },
  {
   "cell_type": "code",
   "execution_count": null,
   "metadata": {},
   "outputs": [],
   "source": [
    "normalization_layer = layers.Rescaling(1./255)"
   ]
  },
  {
   "cell_type": "code",
   "execution_count": null,
   "metadata": {},
   "outputs": [],
   "source": [
    "normalized_ds = test_ds.map(lambda x, y: (normalization_layer(x), y))\n",
    "image_batch, labels_batch = next(iter(normalized_ds))\n",
    "first_image = image_batch[0]\n",
    "#Notice the pixel values are now in `[0,1]`.\n",
    "print(np.min(first_image), np.max(first_image))\n"
   ]
  },
  {
   "cell_type": "code",
   "execution_count": null,
   "metadata": {},
   "outputs": [],
   "source": []
  }
 ],
 "metadata": {
  "kernelspec": {
   "display_name": "Python 3.10.7 ('env': venv)",
   "language": "python",
   "name": "python3"
  },
  "language_info": {
   "codemirror_mode": {
    "name": "ipython",
    "version": 3
   },
   "file_extension": ".py",
   "mimetype": "text/x-python",
   "name": "python",
   "nbconvert_exporter": "python",
   "pygments_lexer": "ipython3",
   "version": "3.10.7"
  },
  "orig_nbformat": 4,
  "vscode": {
   "interpreter": {
    "hash": "978273bfcf4177b0f4cb0f6d706d4399d8f5389363e4bd9f2de20519cd18db80"
   }
  }
 },
 "nbformat": 4,
 "nbformat_minor": 2
}
