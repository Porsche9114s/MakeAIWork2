{
 "cells": [
  {
   "cell_type": "code",
   "execution_count": null,
   "metadata": {},
   "outputs": [],
   "source": []
  },
  {
   "cell_type": "code",
   "execution_count": 1,
   "metadata": {},
   "outputs": [
    {
     "name": "stdout",
     "output_type": "stream",
     "text": [
      "tensor([[0.1327, 0.1478, 0.1551, 0.6692, 0.1806, 0.3770, 0.0866, 0.0320, 0.2622,\n",
      "         0.1123]])\n",
      "torch.return_types.topk(\n",
      "values=tensor([[0.6692]]),\n",
      "indices=tensor([[3]]))\n"
     ]
    },
    {
     "data": {
      "text/plain": [
       "'A rejected batch can be used for petfood'"
      ]
     },
     "execution_count": 1,
     "metadata": {},
     "output_type": "execute_result"
    }
   ],
   "source": [
    "from sentence_transformers import SentenceTransformer, util\n",
    "\n",
    "model = SentenceTransformer('all-MiniLM-L6-v2')\n",
    "#model = SentenceTransformer('multi-qa-MiniLM-L6-cos-v1')\n",
    "import torch\n",
    "\n",
    "query_embedding = model.encode(input('what is your question?'))\n",
    "\n",
    "antwoorden = (['Class 1 are 79 healty apples for example supermarkets ore greengrocer',\n",
    "'Class 2 are 75 healty apples used for exapmle in applesause',\n",
    "'Class 3 are 73 healty apples used for syrup',\n",
    "'A rejected batch can be used for petfood',\n",
    "'We have 4 types of apples, Blotch, Normal, Rot and Scab',\n",
    "'A batch consists of 80 apples',\n",
    "'The prediction in my model is 75%, in my AQL tool it is 100%',\n",
    "'Am I so smart ore are you so dum',\n",
    "'AQL means Acceptance Quality limit',\n",
    "'The lot size is between 5.000 and 10.000 apples'])\n",
    "\n",
    "passage_embedding = model.encode(antwoorden)\n",
    "\n",
    "cos_scores = util.cos_sim(query_embedding, passage_embedding)\n",
    "print(cos_scores)\n",
    "\n",
    "top_k= min(1, len(util.dot_score(query_embedding, passage_embedding)))\n",
    "top_result = torch.topk(cos_scores, k=top_k)\n",
    "print(top_result)\n",
    "antwoorden[top_result[1]]\n"
   ]
  },
  {
   "cell_type": "code",
   "execution_count": null,
   "metadata": {},
   "outputs": [],
   "source": [
    "(['Class 1 are 79 healty apples for example supermarkets ore greengrocer',\n",
    "'Class 2 are 75 healty apples used for exapmle in applesause',\n",
    "'Class 3 are 73 healty apples used for syrup',\n",
    "'A rejected batch can be used for petfood'\n",
    "'We have 4 types of apples, Blotch, Normal, Rot and Scab',\n",
    "'A batch consists of 80 apple's',\n",
    "'The prediction in my model is 75%, in my AQL tool it is 100%'\n",
    "'Am I so smart ore are you so dum'\n",
    "'AQL means Acceptance Quality limit'\n",
    "'The lot size is between 5.000 and 10.000 apples'])\n",
    "\n",
    "healthyApples = \"80\"\n",
    "\n",
    "batchClass = \"1\"\n",
    "\n",
    "accuracyBatch = \"80\"\n",
    "\n",
    "rottenApples = \"1\"\n",
    "\n",
    "scabbedApples = \"2\"\n",
    "\n",
    "blotchedApples = \"1\"\n",
    "\n",
    "\n",
    "\n",
    "sentences = [f'There are {healthyApples} healthy apples in this batch',\n",
    "\n",
    "                                  f'This batch has a Class {batchClass} quality',\n",
    "\n",
    "                                  f'The accuracy of this prediction is {accuracyBatch}%',\n",
    "\n",
    "                                  f'This batch contains {rottenApples} rotten apple(s)',\n",
    "\n",
    "                                  f'This batch contains {scabbedApples} scabbed apple(s)',\n",
    "\n",
    "                                  f'This batch contains {blotchedApples} blotched apple(s)',\n",
    "\n",
    "                                  'Am I the one who is so smart, or are you so stupid?',\n",
    "\n",
    "                                  'Class 1 means the batch can be sold at the grocery store '\n",
    "\n",
    "                                  'U can find a recipe for apple cake at www.omasappeltaarten.nl'"
   ]
  }
 ],
 "metadata": {
  "kernelspec": {
   "display_name": "Python 3.10.7 ('env': venv)",
   "language": "python",
   "name": "python3"
  },
  "language_info": {
   "codemirror_mode": {
    "name": "ipython",
    "version": 3
   },
   "file_extension": ".py",
   "mimetype": "text/x-python",
   "name": "python",
   "nbconvert_exporter": "python",
   "pygments_lexer": "ipython3",
   "version": "3.10.7"
  },
  "orig_nbformat": 4,
  "vscode": {
   "interpreter": {
    "hash": "978273bfcf4177b0f4cb0f6d706d4399d8f5389363e4bd9f2de20519cd18db80"
   }
  }
 },
 "nbformat": 4,
 "nbformat_minor": 2
}
