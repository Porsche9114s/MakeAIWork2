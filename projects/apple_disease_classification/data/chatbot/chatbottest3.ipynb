{
 "cells": [
  {
   "cell_type": "code",
   "execution_count": null,
   "metadata": {},
   "outputs": [],
   "source": []
  },
  {
   "cell_type": "code",
   "execution_count": 3,
   "metadata": {},
   "outputs": [
    {
     "ename": "ModuleNotFoundError",
     "evalue": "No module named 'google.colab'",
     "output_type": "error",
     "traceback": [
      "\u001b[1;31m---------------------------------------------------------------------------\u001b[0m",
      "\u001b[1;31mModuleNotFoundError\u001b[0m                       Traceback (most recent call last)",
      "Cell \u001b[1;32mIn [3], line 20\u001b[0m\n\u001b[0;32m      8\u001b[0m \u001b[39mimport\u001b[39;00m \u001b[39mtorch\u001b[39;00m\n\u001b[0;32m     10\u001b[0m \u001b[39m\"\"\"\u001b[39;00m\n\u001b[0;32m     11\u001b[0m \u001b[39mquery_embedding = model.encode(input('what is your question?'))\u001b[39;00m\n\u001b[0;32m     12\u001b[0m \u001b[39mpassage_embedding = model.encode(['I am 56 years old',\u001b[39;00m\n\u001b[1;32m   (...)\u001b[0m\n\u001b[0;32m     17\u001b[0m \u001b[39mprint(\"Similarity:\", util.dot_score(query_embedding, passage_embedding)\u001b[39;00m\n\u001b[0;32m     18\u001b[0m \u001b[39m\"\"\"\u001b[39;00m\n\u001b[1;32m---> 20\u001b[0m \u001b[39mfrom\u001b[39;00m \u001b[39mgoogle\u001b[39;00m\u001b[39m.\u001b[39;00m\u001b[39mcolab\u001b[39;00m \u001b[39mimport\u001b[39;00m drive\n\u001b[0;32m     21\u001b[0m drive\u001b[39m.\u001b[39mmount(\u001b[39m'\u001b[39m\u001b[39m/çontent/drive\u001b[39m\u001b[39m'\u001b[39m)\n\u001b[0;32m     24\u001b[0m corpus \u001b[39m=\u001b[39m my_sentences_bert\n",
      "\u001b[1;31mModuleNotFoundError\u001b[0m: No module named 'google.colab'"
     ]
    }
   ],
   "source": [
    "from sentence_transformers import SentenceTransformer, util\n",
    "\n",
    "model = SentenceTransformer('all-mpnet-base-v2')\n",
    "\n",
    "import matplotlib.pyplot as plt\n",
    "from sklearn.feature_extraction.text import CountVectorizer\n",
    "from sklearn.metrics.pairwise import cosine_similarity\n",
    "import torch\n",
    "\n",
    "\"\"\"\n",
    "query_embedding = model.encode(input('what is your question?'))\n",
    "passage_embedding = model.encode(['I am 56 years old',\n",
    "                                  'I am a big fan of Max Verstappen',\n",
    "                                  'I love Bianca'])\n",
    "\n",
    "\n",
    "print(\"Similarity:\", util.dot_score(query_embedding, passage_embedding)\n",
    "\"\"\"\n",
    "\n",
    "\n",
    "\n",
    "\n",
    "corpus = my_sentences_bert\n",
    "corpus_embeddings = symmetric_embedder.encode(corpus, convert_to_tensor=True,\\\n",
    "                                show_progress_bar = True,\\\n",
    "                                batch_size = 128)\n",
    "\n",
    "queries = ['Çlimate change and strategies to prevent global warming']\n",
    "\n",
    "top_k = min(5, len(corpus))\n",
    "\n",
    "for query in queries:\n",
    "    query_embedding = symmetric_embedder.encode(query, convert_to_tensor=True)\n",
    "\n",
    "\n",
    "    cos_scores = util.cos_sim(query_embedding, corpus_embeddings)[0]\n",
    "    top_results = torch.topk(cos_scores, k=top_k)\n",
    "\n",
    "    print(\"\\n\\nquery ==>\", query)\n",
    "    print('----------------------------------------------------')\n",
    "    print(\"\\nTop 5 most similar sentences in corpus:\")\n",
    "\n",
    "\n",
    "    for score, idx in zip(top_results[0], top_results[1]):\n",
    "        print(corpus[idx], \"(Score: {:.4f})\".format(score))"
   ]
  }
 ],
 "metadata": {
  "kernelspec": {
   "display_name": "Python 3.10.7 ('env': venv)",
   "language": "python",
   "name": "python3"
  },
  "language_info": {
   "codemirror_mode": {
    "name": "ipython",
    "version": 3
   },
   "file_extension": ".py",
   "mimetype": "text/x-python",
   "name": "python",
   "nbconvert_exporter": "python",
   "pygments_lexer": "ipython3",
   "version": "3.10.7"
  },
  "orig_nbformat": 4,
  "vscode": {
   "interpreter": {
    "hash": "978273bfcf4177b0f4cb0f6d706d4399d8f5389363e4bd9f2de20519cd18db80"
   }
  }
 },
 "nbformat": 4,
 "nbformat_minor": 2
}
