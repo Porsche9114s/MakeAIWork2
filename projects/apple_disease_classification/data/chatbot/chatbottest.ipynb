{
 "cells": [
  {
   "cell_type": "code",
   "execution_count": 4,
   "metadata": {},
   "outputs": [
    {
     "name": "stdout",
     "output_type": "stream",
     "text": [
      "Similarity: tensor([[0.4260, 0.1178, 0.2193]])\n"
     ]
    }
   ],
   "source": [
    "# from sentence_transformers import SentenceTransformer, util\n",
    "# model = SentenceTransformer('multi-qa-MiniLM-L6-cos-v1')\n",
    "\n",
    "# query_embedding = model.encode(input('what is your question?'))\n",
    "# passage_embedding = model.encode(['I am 56 years old',\n",
    "#                                   'I am a big fan of Max Verstappen',\n",
    "#                                   'I love Bianca'])\n",
    "\n",
    "# print(\"Similarity:\", util.dot_score(query_embedding, passage_embedding))\n",
    "\n",
    "## x = input(\"Enter your name:\")\n",
    "## print(\"Hello, \" + x)"
   ]
  },
  {
   "cell_type": "code",
   "execution_count": 7,
   "metadata": {},
   "outputs": [
    {
     "name": "stdout",
     "output_type": "stream",
     "text": [
      "Similarity: tensor([[0.3324, 0.1406, 0.1586]])\n"
     ]
    }
   ],
   "source": [
    "# from sentence_transformers import SentenceTransformer, util\n",
    "# model = SentenceTransformer('all-MiniLM-L12-v2')\n",
    "\n",
    "# query_embedding = model.encode(input('what is your question?'))\n",
    "# passage_embedding = model.encode(['I am 56 years old',\n",
    "#                                   'I am a big fan of Max Verstappen',\n",
    "#                                   'I love Bianca'])\n",
    "\n",
    "\n",
    "# print(\"Similarity:\", util.dot_score(query_embedding, passage_embedding))"
   ]
  },
  {
   "cell_type": "code",
   "execution_count": 8,
   "metadata": {},
   "outputs": [
    {
     "name": "stdout",
     "output_type": "stream",
     "text": [
      "Similarity: tensor([[19.1516,  7.7195,  7.8669]])\n"
     ]
    }
   ],
   "source": [
    "# from sentence_transformers import SentenceTransformer, util\n",
    "# model = SentenceTransformer('multi-qa-mpnet-base-dot-v1')\n",
    "\n",
    "# query_embedding = model.encode(input('what is your question?'))\n",
    "# passage_embedding = model.encode(['I am 56 years old',\n",
    "#                                   'I am a big fan of Max Verstappen',\n",
    "#                                   'I love Bianca'])\n",
    "\n",
    "\n",
    "# print(\"Similarity:\", util.dot_score(query_embedding, passage_embedding))"
   ]
  }
 ],
 "metadata": {
  "kernelspec": {
   "display_name": "Python 3.10.7 ('env': venv)",
   "language": "python",
   "name": "python3"
  },
  "language_info": {
   "codemirror_mode": {
    "name": "ipython",
    "version": 3
   },
   "file_extension": ".py",
   "mimetype": "text/x-python",
   "name": "python",
   "nbconvert_exporter": "python",
   "pygments_lexer": "ipython3",
   "version": "3.10.7"
  },
  "orig_nbformat": 4,
  "vscode": {
   "interpreter": {
    "hash": "978273bfcf4177b0f4cb0f6d706d4399d8f5389363e4bd9f2de20519cd18db80"
   }
  }
 },
 "nbformat": 4,
 "nbformat_minor": 2
}
