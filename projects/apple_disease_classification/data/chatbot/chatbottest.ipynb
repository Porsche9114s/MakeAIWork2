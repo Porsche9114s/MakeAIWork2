{
 "cells": [
  {
   "cell_type": "code",
   "execution_count": 5,
   "metadata": {},
   "outputs": [
    {
     "name": "stdout",
     "output_type": "stream",
     "text": [
      "torch.return_types.topk(\n",
      "values=tensor([0.3068]),\n",
      "indices=tensor([0]))\n"
     ]
    }
   ],
   "source": [
    "from sentence_transformers import SentenceTransformer, util\n",
    "import torch\n",
    "\n",
    "model = SentenceTransformer('multi-qa-MiniLM-L6-cos-v1')\n",
    "\n",
    "query_embedding = model.encode(input('what is your question?'))\n",
    "passage_embedding = model.encode(['I am 56 years old',\n",
    "                                  'I am a big fan of Max Verstappen',\n",
    "                                  'I love Bianca'])\n",
    "\n",
    "#show_progres_bar = True,\\\n",
    "cos_scores = util.cos_sim(query_embedding, passage_embedding)[0]\n",
    "top_k= min(1, len(util.dot_score(query_embedding, passage_embedding)))\n",
    "top_result = torch.topk(cos_scores, k=top_k)\n",
    "\n",
    "print(top_result)\n",
    "\n",
    "\n",
    "\n",
    "#print(\"Similarity:\", k=top_k)\n",
    "#print(\"Similarity:\", util.dot_score(query_embedding, passage_embedding, max_pairs=[0]))\n",
    "\n",
    "## x = input(\"Enter your name:\")\n",
    "## print(\"Hello, \" + x)"
   ]
  },
  {
   "cell_type": "code",
   "execution_count": null,
   "metadata": {},
   "outputs": [],
   "source": [
    "query_embedding = model.encode(input('what is your question?'))\n",
    "passage_embedding = model.encode(['Klasse 1 is minimaal 79 gezonde appels',\n",
    "                                  'Klasse 2 is minimaal 75 gezonde appels',\n",
    "                                  'Klasse 3 is minimaal 73 gezonde appels'])\n",
    "\n",
    "print(\"Similarity:\", util.dot_score(query_embedding, passage_embedding))"
   ]
  },
  {
   "cell_type": "code",
   "execution_count": null,
   "metadata": {},
   "outputs": [],
   "source": [
    "query_embedding = model.encode(input('what is your question?'))\n",
    "passage_embedding = model.encode(['Klasse 1 is minimaal 79 gezonde appels',\n",
    "                                  'Klasse 2 is minimaal 75 gezonde appels',\n",
    "                                  'Klasse 3 is minimaal 73 gezonde appels'])\n",
    "\n",
    "print(\"Similarity:\", util.dot_score(query_embedding, passage_embedding))"
   ]
  },
  {
   "cell_type": "code",
   "execution_count": null,
   "metadata": {},
   "outputs": [],
   "source": [
    "query_embedding = model.encode(input('what is your question?'))\n",
    "passage_embedding = model.encode(['Klasse 1 is minimaal 79 gezonde appels',\n",
    "                                  'Klasse 2 is minimaal 75 gezonde appels',\n",
    "                                  'Klasse 3 is minimaal 73 gezonde appels'])\n",
    "\n",
    "print(\"Similarity:\", util.dot_score(query_embedding, passage_embedding))"
   ]
  }
 ],
 "metadata": {
  "kernelspec": {
   "display_name": "Python 3.10.7 ('env': venv)",
   "language": "python",
   "name": "python3"
  },
  "language_info": {
   "codemirror_mode": {
    "name": "ipython",
    "version": 3
   },
   "file_extension": ".py",
   "mimetype": "text/x-python",
   "name": "python",
   "nbconvert_exporter": "python",
   "pygments_lexer": "ipython3",
   "version": "3.10.7"
  },
  "orig_nbformat": 4,
  "vscode": {
   "interpreter": {
    "hash": "978273bfcf4177b0f4cb0f6d706d4399d8f5389363e4bd9f2de20519cd18db80"
   }
  }
 },
 "nbformat": 4,
 "nbformat_minor": 2
}
