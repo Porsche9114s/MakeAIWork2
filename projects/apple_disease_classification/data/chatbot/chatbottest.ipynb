{
 "cells": [
  {
   "cell_type": "code",
   "execution_count": null,
   "metadata": {},
   "outputs": [],
   "source": [
    "from sentence_transformers import SentenceTransformer, util"
   ]
  },
  {
   "cell_type": "code",
   "execution_count": 1,
   "metadata": {},
   "outputs": [
    {
     "name": "stdout",
     "output_type": "stream",
     "text": [
      "tensor([[0.0895, 0.7457, 0.1731]])\n",
      "torch.return_types.topk(\n",
      "values=tensor([[0.7457]]),\n",
      "indices=tensor([[1]]))\n"
     ]
    },
    {
     "data": {
      "text/plain": [
       "'My hair colour is blond'"
      ]
     },
     "execution_count": 1,
     "metadata": {},
     "output_type": "execute_result"
    }
   ],
   "source": [
    "from sentence_transformers import SentenceTransformer, util\n",
    "\n",
    "model = SentenceTransformer('all-MiniLM-L6-v2')\n",
    "#model = SentenceTransformer('multi-qa-MiniLM-L6-cos-v1')\n",
    "import torch\n",
    "\n",
    "query_embedding = model.encode(input('what is your question?'))\n",
    "\n",
    "antwoorden = (['I am 56 years old','My hair colour is blond','I love Bianca'])\n",
    "\n",
    "passage_embedding = model.encode(antwoorden)\n",
    "\n",
    "cos_scores = util.cos_sim(query_embedding, passage_embedding)\n",
    "print(cos_scores)\n",
    "\n",
    "top_k= min(1, len(util.dot_score(query_embedding, passage_embedding)))\n",
    "top_result = torch.topk(cos_scores, k=top_k)\n",
    "print(top_result)\n",
    "antwoorden[top_result[1]]\n",
    "#print(antwoorden[top_result[1]])\n",
    "\n",
    "#print(\"Similarity:\", util.dot_score(query_embedding, passage_embedding))\n",
    "# print(top_result)\n",
    "# print(top_result[1])\n",
    "#print(cos_scores)"
   ]
  },
  {
   "cell_type": "code",
   "execution_count": 3,
   "metadata": {},
   "outputs": [
    {
     "name": "stdout",
     "output_type": "stream",
     "text": [
      "tensor([[0.4461, 0.1636, 0.2014]])\n",
      "torch.return_types.topk(\n",
      "values=tensor([[0.4461]]),\n",
      "indices=tensor([[0]]))\n"
     ]
    },
    {
     "data": {
      "text/plain": [
       "'I am 56 years old'"
      ]
     },
     "execution_count": 3,
     "metadata": {},
     "output_type": "execute_result"
    }
   ],
   "source": [
    "from sentence_transformers import SentenceTransformer, util\n",
    "model = SentenceTransformer('multi-qa-MiniLM-L6-cos-v1')\n",
    "import torch\n",
    "\n",
    "query_embedding = model.encode(input('what is your question?'))\n",
    "\n",
    "antwoorden = (['I am 56 years old','My hair colour is blond','I love Bianca'])\n",
    "\n",
    "passage_embedding = model.encode(antwoorden)\n",
    "\n",
    "cos_scores = util.cos_sim(query_embedding, passage_embedding)\n",
    "print(cos_scores)\n",
    "\n",
    "top_k= min(1, len(util.dot_score(query_embedding, passage_embedding)))\n",
    "top_result = torch.topk(cos_scores, k=top_k)\n",
    "print(top_result)\n",
    "antwoorden[top_result[1]]\n"
   ]
  },
  {
   "cell_type": "code",
   "execution_count": null,
   "metadata": {},
   "outputs": [],
   "source": [
    "# query_embedding = model.encode(input('what is your question?'))\n",
    "# passage_embedding = model.encode(['Klasse 1 is minimaal 79 gezonde appels',\n",
    "#                                   'Klasse 2 is minimaal 75 gezonde appels',\n",
    "#                                   'Klasse 3 is minimaal 73 gezonde appels'])\n",
    "\n",
    "# print(\"Similarity:\", util.dot_score(query_embedding, passage_embedding))"
   ]
  },
  {
   "cell_type": "code",
   "execution_count": null,
   "metadata": {},
   "outputs": [],
   "source": [
    "# query_embedding = model.encode(input('what is your question?'))\n",
    "# passage_embedding = model.encode(['Klasse 1 is minimaal 79 gezonde appels',\n",
    "#                                   'Klasse 2 is minimaal 75 gezonde appels',\n",
    "#                                   'Klasse 3 is minimaal 73 gezonde appels'])\n",
    "\n",
    "# print(\"Similarity:\", util.dot_score(query_embedding, passage_embedding))"
   ]
  },
  {
   "cell_type": "code",
   "execution_count": null,
   "metadata": {},
   "outputs": [],
   "source": [
    "# query_embedding = model.encode(input('what is your question?'))\n",
    "# passage_embedding = model.encode(['Klasse 1 is minimaal 79 gezonde appels',\n",
    "#                                   'Klasse 2 is minimaal 75 gezonde appels',\n",
    "#                                   'Klasse 3 is minimaal 73 gezonde appels'])\n",
    "\n",
    "# print(\"Similarity:\", util.dot_score(query_embedding, passage_embedding))"
   ]
  },
  {
   "cell_type": "code",
   "execution_count": null,
   "metadata": {},
   "outputs": [],
   "source": [
    "from sentence_transformers import SentenceTransformer, util\n",
    "\n",
    "model = SentenceTransformer('all-MiniLM-L6-v2')\n",
    "#model = SentenceTransformer('multi-qa-MiniLM-L6-cos-v1')\n",
    "import torch\n",
    "\n",
    "query_embedding = model.encode(input('what is your question?'))\n",
    "\n",
    "antwoorden = (['I am 56 years old','My hair colour is blond','I love Bianca'])\n",
    "\n",
    "passage_embedding = model.encode(antwoorden)\n",
    "\n",
    "cos_scores = util.cos_sim(query_embedding, passage_embedding)\n",
    "print(cos_scores)\n",
    "\n",
    "top_k= min(1, len(util.dot_score(query_embedding, passage_embedding)))\n",
    "top_result = torch.topk(cos_scores, k=top_k)\n",
    "print(top_result)\n",
    "antwoorden[top_result[1]]"
   ]
  }
 ],
 "metadata": {
  "kernelspec": {
   "display_name": "Python 3.10.7 ('env': venv)",
   "language": "python",
   "name": "python3"
  },
  "language_info": {
   "codemirror_mode": {
    "name": "ipython",
    "version": 3
   },
   "file_extension": ".py",
   "mimetype": "text/x-python",
   "name": "python",
   "nbconvert_exporter": "python",
   "pygments_lexer": "ipython3",
   "version": "3.10.7"
  },
  "orig_nbformat": 4,
  "vscode": {
   "interpreter": {
    "hash": "978273bfcf4177b0f4cb0f6d706d4399d8f5389363e4bd9f2de20519cd18db80"
   }
  }
 },
 "nbformat": 4,
 "nbformat_minor": 2
}
