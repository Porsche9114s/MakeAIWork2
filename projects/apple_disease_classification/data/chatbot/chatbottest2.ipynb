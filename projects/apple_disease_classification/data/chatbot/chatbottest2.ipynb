{
 "cells": [
  {
   "cell_type": "code",
   "execution_count": null,
   "metadata": {},
   "outputs": [],
   "source": [
    "\"\"\"\n",
    "De bovenstaande statistieken willen we ook uitvragen via een Chatvenster. Je hertraint hiertoe een bestaand \n",
    "SBERT model voor deze specifieke toepassing (wederom via transfer learning). Het gebruik ervan in dit project focust zich op \n",
    "herkenning van de semantische overeenkomst tussen zinnen die de gebruiker intypt en standaard_zinnen waarop een standaard antwoord \n",
    "voor handen is. Zo'n standaard antwoord kan wel variabele parameters bevatten zoals aantallen. een voorbeeld hiervan is het antwoord op de vraag:\n",
    "\"hoeveel procent van de appels is gezond\". \n",
    "\"\"\""
   ]
  },
  {
   "cell_type": "code",
   "execution_count": 2,
   "metadata": {},
   "outputs": [
    {
     "name": "stdout",
     "output_type": "stream",
     "text": [
      "Similarity: tensor([[0.2944, 0.0441, 0.0915]])\n"
     ]
    }
   ],
   "source": [
    "from sentence_transformers import SentenceTransformer, util\n",
    "model = SentenceTransformer('all-distilroberta-v1')\n",
    "\n",
    "query_embedding = model.encode(input('what is your question?'))\n",
    "passage_embedding = model.encode(['I am 56 years old',\n",
    "                                  'I am a big fan of Max Verstappen',\n",
    "                                  'I love Bianca'])\n",
    "\n",
    "\n",
    "print(\"Similarity:\", util.dot_score(query_embedding, passage_embedding))"
   ]
  },
  {
   "cell_type": "code",
   "execution_count": null,
   "metadata": {},
   "outputs": [],
   "source": [
    "# from sentence_transformers import SentenceTransformer, util\n",
    "# model = SentenceTransformer('multi-qa-mpnet-base-dot-v1')\n",
    "# import matplotlib.pyplot as plt\n",
    "# from sklearn.feature_extraction.text import CountVectorizer\n",
    "# from sklearn.metrics.pairwise import cosine_similarity\n",
    "\n",
    "# sentences = ['generate 768 dim embeddings for each sentence','sentences are past as a list of string']\n",
    "\n",
    "# embeddings = model.encode(sentences)\n",
    "\n",
    "# for sentence, embedding in zip(sentences, embeddings):\n",
    "#     print(\"MY Sentences:\",sentence)\n",
    "#     print(\"Sentence Transformer Embedding:\", embedding)\n",
    "#     print(\"\")\n",
    "\n"
   ]
  }
 ],
 "metadata": {
  "kernelspec": {
   "display_name": "Python 3.10.7 ('env': venv)",
   "language": "python",
   "name": "python3"
  },
  "language_info": {
   "codemirror_mode": {
    "name": "ipython",
    "version": 3
   },
   "file_extension": ".py",
   "mimetype": "text/x-python",
   "name": "python",
   "nbconvert_exporter": "python",
   "pygments_lexer": "ipython3",
   "version": "3.10.7"
  },
  "orig_nbformat": 4,
  "vscode": {
   "interpreter": {
    "hash": "978273bfcf4177b0f4cb0f6d706d4399d8f5389363e4bd9f2de20519cd18db80"
   }
  }
 },
 "nbformat": 4,
 "nbformat_minor": 2
}
