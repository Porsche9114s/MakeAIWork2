{
 "cells": [
  {
   "cell_type": "code",
   "execution_count": null,
   "metadata": {},
   "outputs": [],
   "source": [
    "\"\"\"\n",
    "De bovenstaande statistieken willen we ook uitvragen via een Chatvenster. Je hertraint hiertoe een bestaand \n",
    "SBERT model voor deze specifieke toepassing (wederom via transfer learning). Het gebruik ervan in dit project focust zich op \n",
    "herkenning van de semantische overeenkomst tussen zinnen die de gebruiker intypt en standaard_zinnen waarop een standaard antwoord \n",
    "voor handen is. Zo'n standaard antwoord kan wel variabele parameters bevatten zoals aantallen. een voorbeeld hiervan is het antwoord op de vraag:\n",
    "\"hoeveel procent van de appels is gezond\". \n",
    "\"\"\""
   ]
  },
  {
   "cell_type": "code",
   "execution_count": 1,
   "metadata": {},
   "outputs": [
    {
     "name": "stdout",
     "output_type": "stream",
     "text": [
      "tensor([[0.5346, 0.5138, 0.5527, 0.2938, 0.6009, 0.8754, 0.1274, 0.2955, 0.0713,\n",
      "         0.6273]])\n",
      "torch.return_types.topk(\n",
      "values=tensor([[0.8754]]),\n",
      "indices=tensor([[5]]))\n"
     ]
    },
    {
     "data": {
      "text/plain": [
       "'A batch consists of 80 apples'"
      ]
     },
     "execution_count": 1,
     "metadata": {},
     "output_type": "execute_result"
    }
   ],
   "source": [
    "from sentence_transformers import SentenceTransformer, util\n",
    "\n",
    "model = SentenceTransformer('all-MiniLM-L6-v2')\n",
    "import torch\n",
    "\n",
    "query_embedding = model.encode(input('what is your question?'))\n",
    "\n",
    "antwoorden = (['Class 1 are 79 healty apples for example supermarkets ore greengrocer',\n",
    "'Class 2 are 75 healty apples used for exapmle in applesause',\n",
    "'Class 3 are 73 healty apples used for syrup',\n",
    "'A rejected batch can be used for petfood',\n",
    "'We have 4 types of apples, Blotch, Normal, Rot and Scab',\n",
    "'A batch consists of 80 apples',\n",
    "'The prediction in my model is 75%, in my AQL tool it is 100%',\n",
    "'Am I so smart ore are you so dum',\n",
    "'AQL means Acceptance Quality limit',\n",
    "'The lot size is between 5.000 and 10.000 apples'])\n",
    "\n",
    "passage_embedding = model.encode(antwoorden)\n",
    "\n",
    "cos_scores = util.cos_sim(query_embedding, passage_embedding)\n",
    "print(cos_scores)\n",
    "\n",
    "top_k= min(1, len(util.dot_score(query_embedding, passage_embedding)))\n",
    "top_result = torch.topk(cos_scores, k=top_k)\n",
    "print(top_result)\n",
    "antwoorden[top_result[1]]"
   ]
  },
  {
   "cell_type": "code",
   "execution_count": null,
   "metadata": {},
   "outputs": [],
   "source": []
  },
  {
   "cell_type": "code",
   "execution_count": null,
   "metadata": {},
   "outputs": [],
   "source": [
    "(['Class 1 are 79 healty apples for example supermarkets ore greengrocer',\n",
    "'Class 2 are 75 healty apples used for exapmle in applesause',\n",
    "'Class 3 are 73 healty apples used for syrup',\n",
    "'A rejected batch can be used for petfood'\n",
    "'We have 4 types of apples, Blotch, Normal, Rot and Scab',\n",
    "'A batch consists of 80 apple's',\n",
    "'The prediction in my model is 75%, in my AQL tool it is 100%'\n",
    "'Am I so smart ore are you so dum'\n",
    "'AQL means Acceptance Quality limit'\n",
    "'The lot size is between 5.000 and 10.000 apples'])\n",
    "\n",
    "healthyApples = \"80\"\n",
    "\n",
    "batchClass = \"1\"\n",
    "\n",
    "accuracyBatch = \"80\"\n",
    "\n",
    "rottenApples = \"1\"\n",
    "\n",
    "scabbedApples = \"2\"\n",
    "\n",
    "blotchedApples = \"1\"\n",
    "\n",
    "\n",
    "\n",
    "sentences = [f'There are {healthyApples} healthy apples in this batch',\n",
    "\n",
    "                                  f'This batch has a Class {batchClass} quality',\n",
    "\n",
    "                                  f'The accuracy of this prediction is {accuracyBatch}%',\n",
    "\n",
    "                                  f'This batch contains {rottenApples} rotten apple(s)',\n",
    "\n",
    "                                  f'This batch contains {scabbedApples} scabbed apple(s)',\n",
    "\n",
    "                                  f'This batch contains {blotchedApples} blotched apple(s)',\n",
    "\n",
    "                                  'Am I the one who is so smart, or are you so stupid?',\n",
    "\n",
    "                                  'Class 1 means the batch can be sold at the grocery store '\n",
    "\n",
    "                                  'U can find a recipe for apple cake at www.omasappeltaarten.nl'\n",
    "\n"
   ]
  }
 ],
 "metadata": {
  "kernelspec": {
   "display_name": "Python 3.10.7 ('env': venv)",
   "language": "python",
   "name": "python3"
  },
  "language_info": {
   "codemirror_mode": {
    "name": "ipython",
    "version": 3
   },
   "file_extension": ".py",
   "mimetype": "text/x-python",
   "name": "python",
   "nbconvert_exporter": "python",
   "pygments_lexer": "ipython3",
   "version": "3.10.7"
  },
  "orig_nbformat": 4,
  "vscode": {
   "interpreter": {
    "hash": "978273bfcf4177b0f4cb0f6d706d4399d8f5389363e4bd9f2de20519cd18db80"
   }
  }
 },
 "nbformat": 4,
 "nbformat_minor": 2
}
