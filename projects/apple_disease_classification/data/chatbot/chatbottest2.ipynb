{
 "cells": [
  {
   "cell_type": "code",
   "execution_count": null,
   "metadata": {},
   "outputs": [],
   "source": [
    "\"\"\"\n",
    "De bovenstaande statistieken willen we ook uitvragen via een Chatvenster. Je hertraint hiertoe een bestaand \n",
    "SBERT model voor deze specifieke toepassing (wederom via transfer learning). Het gebruik ervan in dit project focust zich op \n",
    "herkenning van de semantische overeenkomst tussen zinnen die de gebruiker intypt en standaard_zinnen waarop een standaard antwoord \n",
    "voor handen is. Zo'n standaard antwoord kan wel variabele parameters bevatten zoals aantallen. een voorbeeld hiervan is het antwoord op de vraag:\n",
    "\"hoeveel procent van de appels is gezond\". \n",
    "\"\"\""
   ]
  }
 ],
 "metadata": {
  "kernelspec": {
   "display_name": "Python 3.10.7 ('env': venv)",
   "language": "python",
   "name": "python3"
  },
  "language_info": {
   "name": "python",
   "version": "3.10.7"
  },
  "orig_nbformat": 4,
  "vscode": {
   "interpreter": {
    "hash": "978273bfcf4177b0f4cb0f6d706d4399d8f5389363e4bd9f2de20519cd18db80"
   }
  }
 },
 "nbformat": 4,
 "nbformat_minor": 2
}
