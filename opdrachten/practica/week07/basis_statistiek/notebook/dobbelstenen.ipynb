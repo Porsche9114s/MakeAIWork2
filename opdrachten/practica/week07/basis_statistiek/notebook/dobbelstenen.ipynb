{
 "cells": [
  {
   "cell_type": "markdown",
   "id": "818a1af7-9708-4bae-92fe-fa36b678d2be",
   "metadata": {},
   "source": [
    "<a href=\"https://it-omscholing.nl/locaties/hogeschool-rotterdam/\">\n",
    "<div>\n",
    "<a><img src='pics/banner.PNG'/></a>\n",
    "</div>\n",
    "<div>\n",
    "<a href=''><img src='pics/miw.PNG'/></a>\n",
    "<em>Author: Jeroen Boogaard</em>\n",
    "</div>\n",
    "</a>"
   ]
  },
  {
   "cell_type": "markdown",
   "id": "a9ff9227-1da2-489e-a4b4-d661d44ce68f",
   "metadata": {},
   "source": [
    "<h1>Practicum Basis Statistiek</h1>"
   ]
  },
  {
   "cell_type": "markdown",
   "id": "0437b096-4322-4054-a14f-b26c9a12999d",
   "metadata": {},
   "source": [
    "<h2>Dobbelstenen</h2>"
   ]
  },
  {
   "cell_type": "markdown",
   "id": "67fc0ddf-6732-496e-a406-77e1776d7359",
   "metadata": {},
   "source": [
    "<div>\n",
    "<img src='pics/dobbelsteen.jpg'/>    \n",
    "</div>    "
   ]
  },
  {
   "cell_type": "code",
   "execution_count": 15,
   "id": "84d02a33",
   "metadata": {},
   "outputs": [],
   "source": [
    "from dobbelsteen import Dobbelsteen\n",
    "from matplotlib_venn import venn2\n",
    "import matplotlib.pyplot as plot\n",
    "import numpy as np\n",
    "import pandas as pd\n",
    "import pylab as plt\n",
    "import random\n",
    "import seaborn as sns\n",
    "import statistics as st"
   ]
  },
  {
   "cell_type": "markdown",
   "id": "51aae3d0-f644-4552-870c-029b41f24559",
   "metadata": {},
   "source": [
    "<h2>Dobbelsteen</h2>"
   ]
  },
  {
   "cell_type": "code",
   "execution_count": 16,
   "id": "18c0e9c1-d82a-46ee-b6fd-8af1b9f6c81f",
   "metadata": {},
   "outputs": [
    {
     "name": "stdout",
     "output_type": "stream",
     "text": [
      "┌─────────┐\n",
      "│  ●      │\n",
      "│         │\n",
      "│      ●  │\n",
      "└─────────┘\n"
     ]
    }
   ],
   "source": [
    "d = Dobbelsteen()\n",
    "print(d.show())"
   ]
  },
  {
   "cell_type": "markdown",
   "id": "170099a3-4baf-4d2b-9ee2-ba934e368432",
   "metadata": {},
   "source": [
    "<h3>Uitkomstruimte</h3>"
   ]
  },
  {
   "cell_type": "code",
   "execution_count": 17,
   "id": "efdbb9fe-07af-460f-81bb-868d15c2c64e",
   "metadata": {},
   "outputs": [
    {
     "name": "stdout",
     "output_type": "stream",
     "text": [
      "{1, 2, 3, 4, 5, 6}\n"
     ]
    }
   ],
   "source": [
    "print(d.values)  "
   ]
  },
  {
   "cell_type": "markdown",
   "id": "8180133d-56ca-4366-8c0f-bfc87b73cbc5",
   "metadata": {},
   "source": [
    "<h3>Kansmassa-functie</h3>"
   ]
  },
  {
   "cell_type": "code",
   "execution_count": 18,
   "id": "c652271d-7f13-493e-a14e-d70a21e2de39",
   "metadata": {},
   "outputs": [
    {
     "name": "stdout",
     "output_type": "stream",
     "text": [
      "p(1) = 1/6\n",
      "p(2) = 1/6\n",
      "p(3) = 1/6\n",
      "p(4) = 1/6\n",
      "p(5) = 1/6\n",
      "p(6) = 1/6\n"
     ]
    }
   ],
   "source": [
    "p = \"1/6\"\n",
    "prob = {element:p for element in d.getList()}\n",
    "\n",
    "for i in d.getList():\n",
    "    print( f\"p({i}) = {prob.get(i)}\" )"
   ]
  },
  {
   "cell_type": "markdown",
   "id": "80c83e13-30fe-40e2-b7a6-d58e9dfebdd1",
   "metadata": {},
   "source": [
    "<h2>Twee dobbelstenen</h2>"
   ]
  },
  {
   "cell_type": "code",
   "execution_count": 19,
   "id": "03ff353d-e88e-416e-bd64-5ab2b47c8e84",
   "metadata": {},
   "outputs": [
    {
     "name": "stdout",
     "output_type": "stream",
     "text": [
      "┌─────────┐\n",
      "│  ●   ●  │\n",
      "│  ●   ●  │\n",
      "│  ●   ●  │\n",
      "└─────────┘\n",
      "┌─────────┐\n",
      "│  ●      │\n",
      "│    ●    │\n",
      "│      ●  │\n",
      "└─────────┘\n"
     ]
    }
   ],
   "source": [
    "d0 = Dobbelsteen()\n",
    "d1 = Dobbelsteen()\n",
    "print( f\"{d0.show()}\\n{d1.show()}\" )"
   ]
  },
  {
   "cell_type": "markdown",
   "id": "efa076ad-8f22-4db5-a835-c42599369263",
   "metadata": {},
   "source": [
    "<h3>Uitkomstruimte</h3>"
   ]
  },
  {
   "cell_type": "code",
   "execution_count": 20,
   "id": "0ee9d6ad-5b3a-418b-bd41-84ff8d7a50a0",
   "metadata": {},
   "outputs": [
    {
     "data": {
      "image/png": "[encoded data removed]",
      "text/plain": [
       "<Figure size 640x480 with 1 Axes>"
      ]
     },
     "metadata": {},
     "output_type": "display_data"
    }
   ],
   "source": [
    "v = venn2(subsets=(1,1,0,1,0))\n",
    "uitkomsten = \"1 2 3 4 5 6\"\n",
    "v.get_label_by_id('100').set_text(uitkomsten)\n",
    "v.get_label_by_id('010').set_text(uitkomsten)\n",
    "plt.title(\"Twee dobbelstenen\")\n",
    "plt.show()"
   ]
  },
  {
   "cell_type": "markdown",
   "id": "cd3605f8-a3ae-4c51-89f1-9121efb85f40",
   "metadata": {},
   "source": [
    "<h3>Exercise 1</h3>"
   ]
  },
  {
   "cell_type": "markdown",
   "id": "4ad197b3-806e-4fdf-8403-cc63a2fc49b6",
   "metadata": {},
   "source": [
    "<h4>Gegeven</h4>\n",
    "<p>Dobbelstenen d0 en d1</p>"
   ]
  },
  {
   "cell_type": "markdown",
   "id": "99703aeb-ae1d-4662-9ff0-c77bb458dfcf",
   "metadata": {},
   "source": [
    "<h4>Gevraagd</h4>\n",
    "<p>\n",
    "    Maak een <u>set</u> van de <u>gecombineerde uitkomstruimte</u> <i>dice</i> die ontstaat door dobbelstenen d0 en d1 tegelijkertijd te werpen\n",
    "</p>"
   ]
  },
  {
   "cell_type": "markdown",
   "id": "cc81594b-54a3-4c6f-82df-03fed6ad4b62",
   "metadata": {},
   "source": [
    "<h4>Oplossing</h4>"
   ]
  },
  {
   "cell_type": "code",
   "execution_count": 21,
   "id": "7d36cbcd-ff5a-4b23-a6d6-d37d736ab4df",
   "metadata": {
    "tags": []
   },
   "outputs": [
    {
     "name": "stdout",
     "output_type": "stream",
     "text": [
      "{(3, 4), (4, 3), (3, 1), (5, 4), (4, 6), (5, 1), (2, 2), (1, 6), (2, 5), (1, 3), (6, 2), (6, 5), (4, 2), (4, 5), (3, 3), (5, 6), (3, 6), (5, 3), (2, 4), (1, 2), (2, 1), (1, 5), (6, 1), (6, 4), (3, 2), (4, 1), (3, 5), (5, 2), (4, 4), (5, 5), (1, 1), (1, 4), (2, 3), (2, 6), (6, 6), (6, 3)}\n"
     ]
    }
   ],
   "source": [
    "# Oplossing\n",
    "#dobbelsteen 1 is d0\n",
    "#dobbelsteen 2 is d1\n",
    "#append is toevoegen\n",
    "\n",
    "#totaal =[]\n",
    "#for d0 in range(1,7):\n",
    "#    for d1 in range (1,7):\n",
    "#         totaal.append((d0,d1))\n",
    "#gecombineerde_uitkomstruimte = set(totaal)\n",
    "\n",
    "#print(gecombineerde_uitkomstruimte)\n",
    "\n",
    "dice = set()\n",
    "for i in d0.getList():\n",
    "    for j in d1.getList():\n",
    "        dice.add((i,j))\n",
    "\n",
    "print(dice)\n",
    "\n"
   ]
  },
  {
   "cell_type": "markdown",
   "id": "2e6623ca-8e7c-4168-acc8-91a91ae23297",
   "metadata": {},
   "source": [
    "<h3>Exercise 2</h3>"
   ]
  },
  {
   "cell_type": "markdown",
   "id": "0d6f96b6-34d0-400a-8cf3-b62fbf16cb64",
   "metadata": {},
   "source": [
    "<h4>Gegeven</h4>\n",
    "<p>Dobbelstenen <i>d0</i> en <i>d1</i> en hun gecombineerde uitkomstruimte <i>dice</i></p>"
   ]
  },
  {
   "cell_type": "markdown",
   "id": "9f245fb3-2a56-44c5-b883-76cef863aba0",
   "metadata": {},
   "source": [
    "<h3>Gevraagd</h3>\n",
    "<p>\n",
    "    Geef de <u>kansmassa-functie</u> van de som van het aantal ogen van <i>d0</i> en <i>d1</i><br>\n",
    "    <strong>TIP</strong>: Maak eerst een dictionary met daarin per alle uitkomsten\n",
    "</p>"
   ]
  },
  {
   "cell_type": "markdown",
   "id": "7810f233-a09a-4636-9b17-15fa90aad0d2",
   "metadata": {},
   "source": [
    "<h4>Oplossing</h4>"
   ]
  },
  {
   "cell_type": "code",
   "execution_count": 22,
   "id": "b7c6945d-683b-4049-ab45-973d13fea8ba",
   "metadata": {},
   "outputs": [
    {
     "name": "stdout",
     "output_type": "stream",
     "text": [
      "De kans massa-functie voor twee stenen:\n",
      " {2: 0.03, 3: 0.06, 4: 0.08, 5: 0.11, 6: 0.14, 7: 0.17, 8: 0.14, 9: 0.11, 10: 0.08, 11: 0.06, 12: 0.03} \n",
      "\n"
     ]
    }
   ],
   "source": [
    "# Oplossing\n",
    "#Dictionary\n",
    "\n",
    "d0_values = (1, 2, 3, 4, 5, 6)\n",
    "d1_values = (1, 2, 3, 4, 5, 6)\n",
    "\n",
    "probability = 1/36\n",
    "dec = 2\n",
    "getal = 0\n",
    "values = []\n",
    "finDict = {}\n",
    "\n",
    "for x in d0_values:\n",
    "    for y in d1_values:\n",
    "        getal = x + y\n",
    "        values.append(getal)\n",
    "        diceDict = {v:values.count(v)for v in values}\n",
    "\n",
    "#print(diceDict)\n",
    "        \n",
    "for key in diceDict:\n",
    "    diceDict[key] *= probability\n",
    "    finDict[key] = round (diceDict[key], dec)\n",
    "\n",
    "\n",
    "print(\"De kans massa-functie voor twee stenen:\\n\", finDict, \"\\n\")\n",
    "\n",
    "#voorbeeld Jeroen.\n",
    "#range(2, 13)\n",
    "#diceDict[2] = [dice for dice in list1 if sum(dice) == 2]\n"
   ]
  },
  {
   "cell_type": "markdown",
   "id": "c878858c-a5c8-4c52-b093-13b46ae78b7d",
   "metadata": {},
   "source": [
    "<h3>Metrics</h3>"
   ]
  },
  {
   "cell_type": "markdown",
   "id": "dce2fe5f-9c9d-49e8-a03b-28d0eedc368f",
   "metadata": {},
   "source": [
    "**Gebruik een numpy array voor het bepalen van centrum-maten**"
   ]
  },
  {
   "cell_type": "markdown",
   "id": "e82be685-7f00-4b64-8b4a-e47c9b584e0b",
   "metadata": {},
   "source": [
    "<h3>Exercise 3a</h3>"
   ]
  },
  {
   "cell_type": "markdown",
   "id": "0a1f3850-fe36-4b18-b5f4-d3887c8a9341",
   "metadata": {},
   "source": [
    "<h4>Gegeven</h4>\n",
    "<p>De class Dobbelsteen in de module dobbelsteen.py</p>"
   ]
  },
  {
   "cell_type": "code",
   "execution_count": 23,
   "id": "619543c6-d4ee-4352-9a6b-dc77ddf660de",
   "metadata": {},
   "outputs": [],
   "source": [
    "d2 = Dobbelsteen()\n",
    "d3 = Dobbelsteen()\n",
    "histD2 = np.empty(1000)\n",
    "histD3 = np.empty(1000)"
   ]
  },
  {
   "cell_type": "markdown",
   "id": "2c2b9484-ff4a-4634-9e95-09bc9a808c51",
   "metadata": {
    "tags": []
   },
   "source": [
    "<h4>Gevraagd</h4>\n",
    "<p>\n",
    "    Voeg het volgende toe aan class Dobbelsteen:\n",
    "    <ol>\n",
    "        <li>list variabele <u>history</u> waaraan de uitkomst van iedere worp wordt toegevoegd</li>\n",
    "        <li>methode <u>getHistory(self)</u> die de waarde van variabele <u>history</u> geeft als <u>numpy-array</u></li>\n",
    "    <li>Schrijf in de cell hieronder een loop die 1000 keer zowel <i>d2</i> als <i>d3</i> werpt en sla de uitkomsten op in rescpectievelijk <i>histD2</i> en <i>histD3</i>. Maak daarbij gebruik van de methode <u>getHistory()</u> uit de vorige stap</li>\n",
    "    </ol>\n",
    " </p>  "
   ]
  },
  {
   "cell_type": "code",
   "execution_count": 24,
   "id": "70ff2f75-ffd2-425a-af9e-0ae7e169bd99",
   "metadata": {},
   "outputs": [
    {
     "name": "stdout",
     "output_type": "stream",
     "text": [
      "(1000,)\n",
      "(1000,)\n"
     ]
    }
   ],
   "source": [
    "import numpy as np\n",
    "from dobbelsteen import Dobbelsteen\n",
    "\n",
    "\n",
    "for _ in range(999):\n",
    "\n",
    "    d2.roll()\n",
    "    d3.roll()\n",
    "histD2[:] = d2.getHistory()\n",
    "histD3[:] = d3.getHistory()\n",
    "\n",
    "print(histD2.shape)\n",
    "print(histD3.shape)\n",
    "\n"
   ]
  },
  {
   "cell_type": "markdown",
   "id": "c252c0ad-fcc1-4e19-8e5c-e5d210d603a9",
   "metadata": {},
   "source": [
    "<h3>Exercise 3b</h3>"
   ]
  },
  {
   "cell_type": "markdown",
   "id": "e954f144-4cdf-487f-8ac3-dd81b82abd54",
   "metadata": {},
   "source": [
    "<h4>Gevraagd</h4>\n",
    "<p>\n",
    "    <ol>\n",
    "        <li>Maak een <u>numpy array histD2D3</u> waarin de uitkomsten van <i>d2</i> en <i>d3</i> paarsgewijs bij elkaar zijn opgeteld.<br> <strong>Hint</strong>: <i>histD2D3 = np.add(histD2, histD3)</i></li> \n",
    "        <li>Print van de modus van zowel histD2 als histD3</li>\n",
    "        <li>Vul onderstaande code aan een <u>histogram van histD2D3</u>.\n",
    "    </ol>\n",
    " </p>  "
   ]
  },
  {
   "cell_type": "code",
   "execution_count": 47,
   "id": "dbea9d7a",
   "metadata": {},
   "outputs": [
    {
     "data": {
      "text/plain": [
       "1.0"
      ]
     },
     "execution_count": 47,
     "metadata": {},
     "output_type": "execute_result"
    }
   ],
   "source": []
  },
  {
   "cell_type": "code",
   "execution_count": 40,
   "id": "87373d92",
   "metadata": {},
   "outputs": [
    {
     "name": "stdout",
     "output_type": "stream",
     "text": [
      "adding two arrays: [ 6.  9.  2.  4. 10.  9. 10.  5.  5.  8.  3.  8.  6. 10.  6.  9.  5. 10.\n",
      " 10.  7.  6.  3.  8.  6.  5.  7.  6.  5.  6. 11.  7.  6.  5.  9.  8.  6.\n",
      "  7.  4.  3.  9.  6.  6. 11. 12.  6.  8.  2.  6. 12.  4.  2.  5. 11.  5.\n",
      "  3.  4.  6.  6.  5.  6.  5.  7. 10.  5.  5.  6.  5.  5.  8.  6. 11.  8.\n",
      "  7.  4.  8. 11.  5.  5.  9.  8.  5.  4. 11.  5.  6.  5.  8.  9.  8.  5.\n",
      "  6.  9.  8.  7.  8.  6.  8.  4.  9.  9.  6.  5.  4.  8.  5.  6.  3.  9.\n",
      "  8.  4.  6. 12.  6.  8.  5.  5.  7.  6.  8. 11.  4.  3.  5.  5.  6.  5.\n",
      "  7.  8.  8.  5.  7.  2.  4.  6.  7.  7.  8.  7.  6.  4.  7.  8. 10.  5.\n",
      "  7.  7.  5.  6. 10.  9.  6. 12.  9.  4.  7.  9.  7.  9.  7. 10.  6.  5.\n",
      "  5.  6.  4.  7.  8. 10.  8.  7.  8.  5.  6.  8.  7.  4.  3.  8. 10.  9.\n",
      "  9.  8.  5.  4.  4.  8.  7.  7.  5. 11.  6.  4.  4.  7.  6.  9.  8.  9.\n",
      "  8.  9.  7.  3.  9.  6. 10.  4.  7.  4.  5.  9.  8.  6.  7.  5.  8.  7.\n",
      " 11. 11. 10.  3.  7.  7. 11.  3. 10. 11.  5.  5.  7.  9.  5.  6.  5.  7.\n",
      " 10. 10. 11.  7.  6.  6.  6.  6.  8. 10. 10. 12.  7.  8. 11. 10.  6.  7.\n",
      "  4.  6.  7. 10.  9.  9.  7.  7.  6.  5.  2. 11. 10.  7.  6.  4.  4. 10.\n",
      "  6. 12.  7.  7. 10. 11.  7.  4.  8. 10.  9.  6.  5. 10.  4.  2. 10. 10.\n",
      "  4.  9.  9.  7.  9.  7.  9.  8.  8.  7.  7.  3. 11. 10.  5.  5.  5. 10.\n",
      " 10.  7.  7.  6.  4.  8.  5. 10. 10. 12.  7.  7.  8.  2.  7. 11.  7. 10.\n",
      "  9.  4.  9.  8.  4.  6.  9.  8.  5.  2.  7.  3.  2.  9.  7.  6.  8.  5.\n",
      "  7.  2. 10.  6.  8. 10.  5.  9.  7.  4.  6. 10.  9.  9.  8.  6.  4.  4.\n",
      "  6.  4. 12.  5.  7.  8.  8.  6.  6.  6.  4.  5.  8.  8.  6.  9.  6.  8.\n",
      "  4. 10.  4.  2.  8.  4.  4.  8.  5.  4.  5. 12.  6.  3.  3.  7.  6.  6.\n",
      "  7.  8.  7.  7.  7.  9.  7. 12.  7.  9. 11.  7.  7.  6.  6. 11.  5. 10.\n",
      "  4.  8.  4.  8.  4.  4.  7.  7. 11.  6. 11.  7.  7.  9.  6.  8.  3.  7.\n",
      "  9.  7.  5.  9. 10.  9.  8.  7.  7.  7.  4.  9. 10.  5.  7.  6.  7.  3.\n",
      "  3.  6. 10.  6.  5. 11.  6.  8.  8.  7.  8.  7.  2.  5.  8.  6.  4.  7.\n",
      "  3.  2.  5.  4.  7.  7.  9.  7.  2.  7.  5.  7.  7.  7.  4.  3.  5. 10.\n",
      "  4.  9.  9.  6.  4.  7.  7.  8.  8. 11.  7.  7.  6.  3.  6.  7.  7. 10.\n",
      "  8.  7.  3.  5. 12.  7.  6.  3.  9. 10. 11.  3. 10. 10.  3. 10.  5.  8.\n",
      "  6. 11.  3. 12. 10.  4.  3.  8.  6. 12.  5.  6.  2.  6.  4.  8.  7. 10.\n",
      "  8.  9.  6.  8.  9.  4. 10.  7.  6. 11.  5. 10.  3.  7. 10.  8.  7.  7.\n",
      "  7.  9.  3.  9.  8.  5.  7.  9.  4.  8.  8.  7.  6.  7.  6.  9.  9.  5.\n",
      "  7.  5.  5.  7.  5.  8. 10.  4.  9.  7.  2.  7. 11. 12.  8.  3.  7.  9.\n",
      " 10.  6.  6.  4.  8.  6. 10.  7.  9.  7.  8.  4. 11.  6.  2.  7.  7.  6.\n",
      " 12.  3.  5.  4.  6.  8.  8.  8.  8.  7.  6.  5.  7. 10.  5.  8.  3. 11.\n",
      "  5.  4.  8. 12.  8.  5. 11.  8.  6.  5.  3.  7.  4.  7.  7.  6.  4. 12.\n",
      "  6.  7.  4.  2. 10.  5.  8.  7.  7. 10.  5.  7.  9.  8. 11.  9.  8.  8.\n",
      "  7.  8.  7.  6.  5.  9.  2.  6.  5. 11.  6.  6.  8.  6.  6.  5.  3. 11.\n",
      "  5.  2.  3.  7. 10.  7.  2.  5.  7.  6.  7.  5.  5.  4.  2.  4. 10.  4.\n",
      " 10.  7.  8.  7. 11.  3.  6.  7. 11.  9. 10.  3.  7. 11.  8. 12.  8.  7.\n",
      "  7.  8. 10. 11.  4. 12.  4. 10.  8.  7.  3.  7.  9.  7.  5.  8.  8.  8.\n",
      "  7.  9. 10.  9.  5.  5.  3.  3.  7.  4.  6.  5.  8. 12.  5.  6.  9.  5.\n",
      "  6.  2.  6.  5.  9.  4.  5.  9.  7.  7.  4.  7.  7.  9.  7.  4.  6.  6.\n",
      "  8.  7. 12.  7.  4.  8.  9.  8.  9.  3.  7. 10. 12.  7. 10.  7. 10.  9.\n",
      "  4.  7.  4.  6.  5.  6.  8.  5.  9.  4.  3.  5.  6. 11.  7.  5.  8.  4.\n",
      "  3.  6.  5.  8.  9.  6.  4. 11. 10.  8.  6.  6.  6.  7.  6.  4.  3.  6.\n",
      "  6.  6.  4.  9.  3.  2. 11.  7.  6.  8.  4.  9. 11.  6. 11. 10. 10. 10.\n",
      "  7.  5.  7.  7.  4.  6. 10.  8.  7.  6.  6.  5.  9.  9.  6.  7.  8.  6.\n",
      "  4.  9.  8.  4.  7.  2.  9. 10.  9.  5. 10.  3.  7.  9.  9.  8.  7.  2.\n",
      " 11.  3.  5.  4.  6.  9.  6. 12.  3.  6.  8.  4.  7. 10.  9. 11.  4.  7.\n",
      "  2. 10. 12. 11.  8.  2.  6.  4.  5.  8.  7. 11.  4.  8. 11. 10.  5.  4.\n",
      "  7.  7.  6.  7.  5.  9.  6.  8.  4.  4. 10.  3.  8.  9.  9.  5.  4.  3.\n",
      "  8.  6.  4.  5.  2.  6.  8.  8.  3.  5.  3.  7.  6.  8. 10.  4.  7.  7.\n",
      "  7.  5.  3.  3.  4.  7.  3.  7.  7.  7.  6.  7. 12.  6.  8.  7.  6.  8.\n",
      "  7.  9.  8. 12.  4.  8.  9.  6.  8.  5.  6.  4.  4.  6.  8.  4.  7.  5.\n",
      "  5.  9.  6.  6.  6.  5.  9.  4.  6.  5.]\n"
     ]
    }
   ],
   "source": [
    "\n",
    "new_result= np.add(histD2,histD3)\n",
    "print(\"adding two arrays:\",new_result)\n",
    "\n"
   ]
  },
  {
   "cell_type": "code",
   "execution_count": 71,
   "id": "e6f79fec",
   "metadata": {},
   "outputs": [
    {
     "name": "stdout",
     "output_type": "stream",
     "text": [
      "De modus D2 is: 1.0\n",
      "De modus D3 is: 3.0\n"
     ]
    }
   ],
   "source": [
    "import statistics\n",
    "\n",
    "dataset1 = histD2\n",
    "modus = statistics.mode(dataset1)\n",
    "print(\"De modus D2 is: \" + str(modus))\n",
    "\n",
    "dataset2 = (histD3)\n",
    "modus = statistics.mode(dataset2)\n",
    "print(\"De modus D3 is: \" + str(modus))\n",
    "\n",
    "#print(dataset1.max())\n",
    "#plt.hist(dataset1,range(0,10))"
   ]
  },
  {
   "cell_type": "code",
   "execution_count": 72,
   "id": "2a008910-462a-4df2-bc93-baf00bc09690",
   "metadata": {},
   "outputs": [
    {
     "data": {
      "image/png": "[encoded data removed]",
      "text/plain": [
       "<Figure size 640x480 with 1 Axes>"
      ]
     },
     "metadata": {},
     "output_type": "display_data"
    }
   ],
   "source": [
    "# Oplossing\n",
    "x =(histD2[:] + histD3[:])\n",
    "plt.hist(x) \n",
    "plt.title(\"Som van twee dobbelstenen\") \n",
    "plt.show()"
   ]
  }
 ],
 "metadata": {
  "kernelspec": {
   "display_name": "Python 3.10.7 ('env': venv)",
   "language": "python",
   "name": "python3"
  },
  "language_info": {
   "codemirror_mode": {
    "name": "ipython",
    "version": 3
   },
   "file_extension": ".py",
   "mimetype": "text/x-python",
   "name": "python",
   "nbconvert_exporter": "python",
   "pygments_lexer": "ipython3",
   "version": "3.10.7"
  },
  "vscode": {
   "interpreter": {
    "hash": "978273bfcf4177b0f4cb0f6d706d4399d8f5389363e4bd9f2de20519cd18db80"
   }
  }
 },
 "nbformat": 4,
 "nbformat_minor": 5
}
